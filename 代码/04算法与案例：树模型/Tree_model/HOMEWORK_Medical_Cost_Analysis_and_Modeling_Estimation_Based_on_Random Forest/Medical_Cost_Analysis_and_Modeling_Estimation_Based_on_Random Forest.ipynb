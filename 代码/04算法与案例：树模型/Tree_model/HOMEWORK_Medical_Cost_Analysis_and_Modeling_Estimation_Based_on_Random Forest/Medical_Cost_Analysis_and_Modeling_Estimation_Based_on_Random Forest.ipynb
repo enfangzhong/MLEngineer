{
 "cells": [
  {
   "cell_type": "markdown",
   "metadata": {},
   "source": [
    "![](http://osloyi5le.bkt.clouddn.com/%E6%9C%BA%E5%99%A8%E5%AD%A6%E4%B9%A0%E5%B7%A5%E7%A8%8B%E5%B8%88banner.png)"
   ]
  },
  {
   "cell_type": "markdown",
   "metadata": {},
   "source": [
    "# 基于随机森林的医疗费用分析与建模预估\n",
    "\n",
    "作者： 寒小阳、助教-Choc"
   ]
  },
  {
   "cell_type": "markdown",
   "metadata": {},
   "source": [
    "### 作业说明\n",
    "\n",
    "· 任务一：选出特征和标签（用作数据分析）\n",
    "\n",
    "· 任务二：选出实际建模时所用的特征与标签，并对数据进行标准化处理\n",
    "\n",
    "· 任务三：构建模型，并进行训练、测试和评估\n",
    "\n",
    "· 任务四：在新数据上进行预测"
   ]
  },
  {
   "cell_type": "markdown",
   "metadata": {},
   "source": [
    "#### 步骤 0：import 需要的工具库"
   ]
  },
  {
   "cell_type": "code",
   "execution_count": null,
   "metadata": {},
   "outputs": [],
   "source": [
    "import warnings\n",
    "warnings.filterwarnings('ignore')\n",
    "import pandas as pd\n",
    "from matplotlib import pyplot as plt\n",
    "import seaborn as sns\n",
    "from sklearn.ensemble import RandomForestRegressor\n",
    "from sklearn.preprocessing import LabelEncoder, StandardScaler\n",
    "from sklearn.model_selection import train_test_split\n",
    "import numpy as np\n",
    "import sklearn.metrics"
   ]
  },
  {
   "cell_type": "markdown",
   "metadata": {},
   "source": [
    "#### 步骤 1：加载数据，并进行分析"
   ]
  },
  {
   "cell_type": "code",
   "execution_count": null,
   "metadata": {
    "_cell_guid": "b1076dfc-b9ad-4769-8c92-a6c4dae69d19",
    "_uuid": "8f2839f25d086af736a60e9eeb907d3b93b6e0e5",
    "scrolled": true
   },
   "outputs": [],
   "source": [
    "df = pd.read_csv('./insurance.csv')\n",
    "#剔除缺失值\n",
    "df = df.dropna()\n",
    "#查看数据分布状况\n",
    "df.describe()"
   ]
  },
  {
   "cell_type": "code",
   "execution_count": null,
   "metadata": {
    "_uuid": "dc9600cade1f721de52c0b5be3bf096e7efd75b1"
   },
   "outputs": [],
   "source": [
    "#查看不同维度之间的相关性\n",
    "df.corr()"
   ]
  },
  {
   "cell_type": "markdown",
   "metadata": {},
   "source": [
    "#### **任务一：选出特征和标签（用作数据分析）**"
   ]
  },
  {
   "cell_type": "code",
   "execution_count": null,
   "metadata": {
    "_cell_guid": "79c7e3d0-c299-4dcb-8224-4455121ee9b0",
    "_uuid": "d629ff2d2480ee46fbb7e2d37f6b5fab8052498a"
   },
   "outputs": [],
   "source": [
    "# 注：bmi（Body Mass Index）为身体质量指数，这里省略小数点来区间化特征，方便做数据分析\n",
    "df['bmi_int'] = df['bmi'].apply(lambda x: int(x))\n",
    "\n",
    "# 提示：可使用head函数查看列表；根据主题 医疗费用分析 选出特征\n",
    "variables =                   # YOUR CODE HERE \n",
    "\n",
    "# 数据分布分析\n",
    "print('数据分布分析：')\n",
    "for v in variables:\n",
    "    df = df.sort_values(by=[v])\n",
    "    df[v].value_counts().plot(kind = 'bar')\n",
    "    plt.title(v)\n",
    "    plt.show()"
   ]
  },
  {
   "cell_type": "code",
   "execution_count": null,
   "metadata": {
    "_cell_guid": "98eb1d06-25c7-4fcd-a237-6b8430d006e5",
    "_uuid": "6809020e5490a674d3c1e7ed88ca1d56aec2413c",
    "scrolled": false
   },
   "outputs": [],
   "source": [
    "#平均医疗开销分析\n",
    "print('平均医疗开销分析：')\n",
    "for v in variables:\n",
    "    group_df = df.groupby(pd.Grouper(key=v)).mean()\n",
    "    group_df = group_df.sort_index()\n",
    "    group_df.plot(y = ['charges'],kind = 'bar')\n",
    "    plt.show()"
   ]
  },
  {
   "cell_type": "code",
   "execution_count": null,
   "metadata": {
    "_cell_guid": "078f27b3-a846-47c8-a7d8-5412d44b3fbd",
    "_uuid": "109f80eba0b4c3fc6f6479a805b94fed55dbf3cb"
   },
   "outputs": [],
   "source": [
    "#两两变量分析\n",
    "print('两两变量分析：')\n",
    "variables = ['sex','smoker','region','age','bmi_int','children','charges']\n",
    "sns_plot = sns.pairplot(df[variables])\n",
    "plt.show()"
   ]
  },
  {
   "cell_type": "markdown",
   "metadata": {},
   "source": [
    "#### 步骤 3：构建模型"
   ]
  },
  {
   "cell_type": "code",
   "execution_count": null,
   "metadata": {
    "_cell_guid": "bdf90848-3c21-4d3c-91be-2e30ecc6d7d8",
    "_uuid": "f97e66a90b2bb51c02190aa3620ed716b86a343d"
   },
   "outputs": [],
   "source": [
    "print('建模与评估\\n\\n')\n",
    "\n",
    "#对类别型变量进行编码\n",
    "le_sex = LabelEncoder()\n",
    "le_smoker = LabelEncoder()\n",
    "le_region = LabelEncoder()\n",
    "\n",
    "df['sex'] = le_sex.fit_transform(df['sex'])\n",
    "df['smoker'] = le_smoker.fit_transform(df['smoker'])\n",
    "df['region'] = le_region.fit_transform(df['region'])"
   ]
  },
  {
   "cell_type": "markdown",
   "metadata": {},
   "source": [
    "#### **任务二：选出实际建模时所用的特征与标签，并对数据进行标准化处理**"
   ]
  },
  {
   "cell_type": "code",
   "execution_count": null,
   "metadata": {},
   "outputs": [],
   "source": [
    "# YOUR CODE BELOW\n",
    "variables =                        # 选择特征\n",
    "X =                                # 导入特征数据\n",
    "sc = StandardScaler()\n",
    "X =                                # 对数据标准化处理\n",
    "Y =                                # 导入标签数据\n",
    "\n",
    "# 使用sklearn.model_selection库自动对数据进行训练集与测试集的分割\n",
    "X_train, X_test, y_train, y_test = train_test_split(X, Y, test_size=0.2)"
   ]
  },
  {
   "cell_type": "markdown",
   "metadata": {},
   "source": [
    "#### **任务三：构建模型，并进行训练、测试和评估**"
   ]
  },
  {
   "cell_type": "code",
   "execution_count": null,
   "metadata": {},
   "outputs": [],
   "source": [
    "# YOUR CODE BELOW\n",
    "regressor =                   # 使用import的随机森林模型，并设置不同的树的数量进行试验，参考值为200\n",
    "# 使用fit函数对X_train,y_train进行拟合\n",
    "\n",
    "\n",
    "\n",
    "\n",
    "\n",
    "#prediction and evaluation\n",
    "y_train_pred =                # 对X_train进行预测\n",
    "y_test_pred =                 # 对X_test进行预测"
   ]
  },
  {
   "cell_type": "code",
   "execution_count": null,
   "metadata": {},
   "outputs": [],
   "source": [
    "#计算相应的MAE和RMSE，填入计算需要的值到括号中\n",
    "print('RandomForestRegressor evaluating result:')\n",
    "print(\"Train MAE: \", sklearn.metrics.mean_absolute_error( ))\n",
    "print(\"Train RMSE: \", np.sqrt(sklearn.metrics.mean_squared_error( )))\n",
    "print(\"Test MAE: \", sklearn.metrics.mean_absolute_error( ))\n",
    "print(\"Test RMSE: \", np.sqrt(sklearn.metrics.mean_squared_error( )))"
   ]
  },
  {
   "cell_type": "code",
   "execution_count": null,
   "metadata": {
    "_cell_guid": "0d024932-ba9e-47aa-9e92-893b37d5c420",
    "_uuid": "9e7392173889c190c75d1d87ff1ee672cda9aa12",
    "scrolled": true
   },
   "outputs": [],
   "source": [
    "# 简单可视化模型，查看各个特征在随机森林中的重要度\n",
    "print('特征重要度排序\\n\\n')\n",
    "importances = regressor.feature_importances_\n",
    "std = np.std([tree.feature_importances_ for tree in regressor.estimators_],axis=0)\n",
    "indices = np.argsort(importances)[::-1]\n",
    "\n",
    "importance_list = []\n",
    "for f in range(X.shape[1]):\n",
    "    variable = variables[indices[f]]\n",
    "    importance_list.append(variable)\n",
    "    print(\"%d.%s(%f)\" % (f + 1, variable, importances[indices[f]]))\n",
    "\n",
    "# Plot the feature importances of the forest\n",
    "plt.figure()\n",
    "plt.title(\"Feature importance\")\n",
    "plt.bar(importance_list, importances[indices],\n",
    "       color=\"r\", yerr=std[indices], align=\"center\")\n",
    "plt.show()"
   ]
  },
  {
   "cell_type": "markdown",
   "metadata": {},
   "source": [
    "#### 步骤 4：使用模型预测"
   ]
  },
  {
   "cell_type": "markdown",
   "metadata": {},
   "source": [
    "#### **任务四：在新数据上进行预测**"
   ]
  },
  {
   "cell_type": "code",
   "execution_count": null,
   "metadata": {
    "_cell_guid": "35dcf7ff-9e8d-4090-b4ca-8910d610fc3a",
    "_uuid": "834b9c0f72d55e8db00fdf7c6e611cc87557fbb9"
   },
   "outputs": [],
   "source": [
    "print('在新数据上进行预测\\n\\n')\n",
    "\n",
    "# 构建新数据\n",
    "billy = ['male','yes','southeast',25,30.5,2]\n",
    "print('Billy - ',str(billy))\n",
    "\n",
    "# 对数据进行标准化处理，注意这里要用与训练时相同的模型，不可重新fit\n",
    "# 另外注意，这里的函数输入的是一列，返回的也是列，故需要添加[]，同时返回值也需要提取数据\n",
    "billy[0] = le_sex.transform([billy[0]])[0] \n",
    "billy[1] = le_smoker.transform([billy[1]])[0] \n",
    "billy[2] = le_region.transform([billy[2]])[0] \n",
    "\n",
    "# 与上边同理\n",
    "X = sc.transform([billy])\n",
    "\n",
    "# 对新数据进行预测\n",
    "cost_for_billy = regressor.predict(X)[0]\n",
    "print('Billy的医疗开销 = ',cost_for_billy,'\\n\\n')\n",
    "\n",
    "# 第二个新数据，理解上边的注释，仿写\n",
    "dennis = ['female','no','southeast',45,19,0]\n",
    "print('Dennis - ',str(dennis))\n",
    "\n",
    "dennis[0] =             # YOUR CODE HERE\n",
    "dennis[1] =             # YOUR CODE HERE\n",
    "dennis[2] =             # YOUR CODE HERE\n",
    "\n",
    "X =                     # YOUR CODE HERE\n",
    "\n",
    "cost_for_dennis =       # YOUR CODE HERE\n",
    "\n",
    "print('Dennis的医疗开销 = ',cost_for_dennis)"
   ]
  },
  {
   "cell_type": "markdown",
   "metadata": {},
   "source": [
    "作者：寒小阳、助教Choc\n",
    "\n",
    "本文档版权归稀牛学院所有"
   ]
  },
  {
   "attachments": {
    "image.png": {
     "image/png": "[encoded data removed]"
    }
   },
   "cell_type": "markdown",
   "metadata": {},
   "source": [
    "![image.png](attachment:image.png)"
   ]
  }
 ],
 "metadata": {
  "kernelspec": {
   "display_name": "Python 3",
   "language": "python",
   "name": "python3"
  },
  "language_info": {
   "codemirror_mode": {
    "name": "ipython",
    "version": 3
   },
   "file_extension": ".py",
   "mimetype": "text/x-python",
   "name": "python",
   "nbconvert_exporter": "python",
   "pygments_lexer": "ipython3",
   "version": "3.6.4"
  }
 },
 "nbformat": 4,
 "nbformat_minor": 1
}
