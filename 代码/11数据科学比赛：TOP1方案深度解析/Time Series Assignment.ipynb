{
 "cells": [
  {
   "cell_type": "code",
   "execution_count": 177,
   "metadata": {
    "collapsed": true
   },
   "outputs": [],
   "source": [
    "import pandas as pd\n",
    "import numpy as np\n",
    "import datetime as dt\n",
    "from statsmodels.tsa.seasonal import seasonal_decompose\n",
    "from matplotlib.pylab import style\n",
    "from statsmodels.tsa.arima_model import ARIMA\n",
    "from statsmodels.graphics.tsaplots import plot_acf, plot_pacf\n",
    "from sklearn.metrics import mean_squared_error as MSE\n",
    "\n",
    "import matplotlib.pyplot as plt\n",
    "import seaborn as sns\n",
    "from matplotlib import style\n",
    "\n",
    "style.use('seaborn')\n",
    "import warnings; warnings.simplefilter('ignore')\n",
    "%matplotlib inline"
   ]
  },
  {
   "cell_type": "code",
   "execution_count": 2,
   "metadata": {},
   "outputs": [
    {
     "name": "stdout",
     "output_type": "stream",
     "text": [
      "<class 'pandas.core.frame.DataFrame'>\n",
      "RangeIndex: 741 entries, 0 to 740\n",
      "Data columns (total 2 columns):\n",
      "Date                                           741 non-null datetime64[ns]\n",
      "Number of calls received at the call centre    734 non-null float64\n",
      "dtypes: datetime64[ns](1), float64(1)\n",
      "memory usage: 11.7 KB\n"
     ]
    }
   ],
   "source": [
    "data = pd.read_excel('TimeSeriesCoursework.xlsx')\n",
    "data.info()"
   ]
  },
  {
   "cell_type": "code",
   "execution_count": 3,
   "metadata": {
    "collapsed": true
   },
   "outputs": [],
   "source": [
    "data.rename(columns = {data.columns[1]:'Number'},inplace=True)"
   ]
  },
  {
   "cell_type": "markdown",
   "metadata": {},
   "source": [
    "# Numeric Summaries"
   ]
  },
  {
   "cell_type": "markdown",
   "metadata": {},
   "source": [
    "## Overall Summary"
   ]
  },
  {
   "cell_type": "code",
   "execution_count": 4,
   "metadata": {},
   "outputs": [
    {
     "data": {
      "text/html": [
       "<div>\n",
       "<style scoped>\n",
       "    .dataframe tbody tr th:only-of-type {\n",
       "        vertical-align: middle;\n",
       "    }\n",
       "\n",
       "    .dataframe tbody tr th {\n",
       "        vertical-align: top;\n",
       "    }\n",
       "\n",
       "    .dataframe thead th {\n",
       "        text-align: right;\n",
       "    }\n",
       "</style>\n",
       "<table border=\"1\" class=\"dataframe\">\n",
       "  <thead>\n",
       "    <tr style=\"text-align: right;\">\n",
       "      <th></th>\n",
       "      <th>Number</th>\n",
       "    </tr>\n",
       "  </thead>\n",
       "  <tbody>\n",
       "    <tr>\n",
       "      <th>count</th>\n",
       "      <td>734.000000</td>\n",
       "    </tr>\n",
       "    <tr>\n",
       "      <th>mean</th>\n",
       "      <td>301.584469</td>\n",
       "    </tr>\n",
       "    <tr>\n",
       "      <th>std</th>\n",
       "      <td>188.528394</td>\n",
       "    </tr>\n",
       "    <tr>\n",
       "      <th>min</th>\n",
       "      <td>123.000000</td>\n",
       "    </tr>\n",
       "    <tr>\n",
       "      <th>25%</th>\n",
       "      <td>171.000000</td>\n",
       "    </tr>\n",
       "    <tr>\n",
       "      <th>50%</th>\n",
       "      <td>193.000000</td>\n",
       "    </tr>\n",
       "    <tr>\n",
       "      <th>75%</th>\n",
       "      <td>497.000000</td>\n",
       "    </tr>\n",
       "    <tr>\n",
       "      <th>max</th>\n",
       "      <td>1049.000000</td>\n",
       "    </tr>\n",
       "  </tbody>\n",
       "</table>\n",
       "</div>"
      ],
      "text/plain": [
       "            Number\n",
       "count   734.000000\n",
       "mean    301.584469\n",
       "std     188.528394\n",
       "min     123.000000\n",
       "25%     171.000000\n",
       "50%     193.000000\n",
       "75%     497.000000\n",
       "max    1049.000000"
      ]
     },
     "execution_count": 4,
     "metadata": {},
     "output_type": "execute_result"
    }
   ],
   "source": [
    "data.describe()"
   ]
  },
  {
   "cell_type": "markdown",
   "metadata": {},
   "source": [
    "## day-of-week summary"
   ]
  },
  {
   "cell_type": "code",
   "execution_count": 5,
   "metadata": {},
   "outputs": [
    {
     "data": {
      "text/html": [
       "<div>\n",
       "<style scoped>\n",
       "    .dataframe tbody tr th:only-of-type {\n",
       "        vertical-align: middle;\n",
       "    }\n",
       "\n",
       "    .dataframe tbody tr th {\n",
       "        vertical-align: top;\n",
       "    }\n",
       "\n",
       "    .dataframe thead tr th {\n",
       "        text-align: left;\n",
       "    }\n",
       "\n",
       "    .dataframe thead tr:last-of-type th {\n",
       "        text-align: right;\n",
       "    }\n",
       "</style>\n",
       "<table border=\"1\" class=\"dataframe\">\n",
       "  <thead>\n",
       "    <tr>\n",
       "      <th></th>\n",
       "      <th colspan=\"8\" halign=\"left\">Number</th>\n",
       "    </tr>\n",
       "    <tr>\n",
       "      <th></th>\n",
       "      <th>count</th>\n",
       "      <th>mean</th>\n",
       "      <th>std</th>\n",
       "      <th>min</th>\n",
       "      <th>25%</th>\n",
       "      <th>50%</th>\n",
       "      <th>75%</th>\n",
       "      <th>max</th>\n",
       "    </tr>\n",
       "    <tr>\n",
       "      <th>day_of_week</th>\n",
       "      <th></th>\n",
       "      <th></th>\n",
       "      <th></th>\n",
       "      <th></th>\n",
       "      <th></th>\n",
       "      <th></th>\n",
       "      <th></th>\n",
       "      <th></th>\n",
       "    </tr>\n",
       "  </thead>\n",
       "  <tbody>\n",
       "    <tr>\n",
       "      <th>0</th>\n",
       "      <td>105.0</td>\n",
       "      <td>185.123810</td>\n",
       "      <td>39.690557</td>\n",
       "      <td>125.0</td>\n",
       "      <td>165.0</td>\n",
       "      <td>177.0</td>\n",
       "      <td>198.00</td>\n",
       "      <td>455.0</td>\n",
       "    </tr>\n",
       "    <tr>\n",
       "      <th>1</th>\n",
       "      <td>105.0</td>\n",
       "      <td>186.314286</td>\n",
       "      <td>95.876053</td>\n",
       "      <td>123.0</td>\n",
       "      <td>155.0</td>\n",
       "      <td>169.0</td>\n",
       "      <td>181.00</td>\n",
       "      <td>856.0</td>\n",
       "    </tr>\n",
       "    <tr>\n",
       "      <th>2</th>\n",
       "      <td>105.0</td>\n",
       "      <td>203.038095</td>\n",
       "      <td>119.753346</td>\n",
       "      <td>132.0</td>\n",
       "      <td>169.0</td>\n",
       "      <td>179.0</td>\n",
       "      <td>196.00</td>\n",
       "      <td>896.0</td>\n",
       "    </tr>\n",
       "    <tr>\n",
       "      <th>3</th>\n",
       "      <td>105.0</td>\n",
       "      <td>585.800000</td>\n",
       "      <td>87.697733</td>\n",
       "      <td>433.0</td>\n",
       "      <td>540.0</td>\n",
       "      <td>574.0</td>\n",
       "      <td>605.00</td>\n",
       "      <td>1049.0</td>\n",
       "    </tr>\n",
       "    <tr>\n",
       "      <th>4</th>\n",
       "      <td>105.0</td>\n",
       "      <td>538.885714</td>\n",
       "      <td>83.899014</td>\n",
       "      <td>195.0</td>\n",
       "      <td>490.0</td>\n",
       "      <td>531.0</td>\n",
       "      <td>577.00</td>\n",
       "      <td>816.0</td>\n",
       "    </tr>\n",
       "    <tr>\n",
       "      <th>5</th>\n",
       "      <td>104.0</td>\n",
       "      <td>224.673077</td>\n",
       "      <td>115.025826</td>\n",
       "      <td>141.0</td>\n",
       "      <td>178.0</td>\n",
       "      <td>193.0</td>\n",
       "      <td>215.25</td>\n",
       "      <td>772.0</td>\n",
       "    </tr>\n",
       "    <tr>\n",
       "      <th>6</th>\n",
       "      <td>105.0</td>\n",
       "      <td>186.523810</td>\n",
       "      <td>54.442824</td>\n",
       "      <td>126.0</td>\n",
       "      <td>161.0</td>\n",
       "      <td>178.0</td>\n",
       "      <td>196.00</td>\n",
       "      <td>636.0</td>\n",
       "    </tr>\n",
       "  </tbody>\n",
       "</table>\n",
       "</div>"
      ],
      "text/plain": [
       "            Number                                                       \\\n",
       "             count        mean         std    min    25%    50%     75%   \n",
       "day_of_week                                                               \n",
       "0            105.0  185.123810   39.690557  125.0  165.0  177.0  198.00   \n",
       "1            105.0  186.314286   95.876053  123.0  155.0  169.0  181.00   \n",
       "2            105.0  203.038095  119.753346  132.0  169.0  179.0  196.00   \n",
       "3            105.0  585.800000   87.697733  433.0  540.0  574.0  605.00   \n",
       "4            105.0  538.885714   83.899014  195.0  490.0  531.0  577.00   \n",
       "5            104.0  224.673077  115.025826  141.0  178.0  193.0  215.25   \n",
       "6            105.0  186.523810   54.442824  126.0  161.0  178.0  196.00   \n",
       "\n",
       "                     \n",
       "                max  \n",
       "day_of_week          \n",
       "0             455.0  \n",
       "1             856.0  \n",
       "2             896.0  \n",
       "3            1049.0  \n",
       "4             816.0  \n",
       "5             772.0  \n",
       "6             636.0  "
      ]
     },
     "execution_count": 5,
     "metadata": {},
     "output_type": "execute_result"
    }
   ],
   "source": [
    "data['day_of_week'] = data['Date'].dt.dayofweek\n",
    "data.groupby(data['day_of_week']).describe()\n",
    "#del data['day_of_week']"
   ]
  },
  {
   "cell_type": "markdown",
   "metadata": {},
   "source": [
    "## month-of-year summary"
   ]
  },
  {
   "cell_type": "code",
   "execution_count": 6,
   "metadata": {},
   "outputs": [
    {
     "data": {
      "text/html": [
       "<div>\n",
       "<style scoped>\n",
       "    .dataframe tbody tr th:only-of-type {\n",
       "        vertical-align: middle;\n",
       "    }\n",
       "\n",
       "    .dataframe tbody tr th {\n",
       "        vertical-align: top;\n",
       "    }\n",
       "\n",
       "    .dataframe thead tr th {\n",
       "        text-align: left;\n",
       "    }\n",
       "\n",
       "    .dataframe thead tr:last-of-type th {\n",
       "        text-align: right;\n",
       "    }\n",
       "</style>\n",
       "<table border=\"1\" class=\"dataframe\">\n",
       "  <thead>\n",
       "    <tr>\n",
       "      <th></th>\n",
       "      <th colspan=\"8\" halign=\"left\">Number</th>\n",
       "    </tr>\n",
       "    <tr>\n",
       "      <th></th>\n",
       "      <th>count</th>\n",
       "      <th>mean</th>\n",
       "      <th>std</th>\n",
       "      <th>min</th>\n",
       "      <th>25%</th>\n",
       "      <th>50%</th>\n",
       "      <th>75%</th>\n",
       "      <th>max</th>\n",
       "    </tr>\n",
       "    <tr>\n",
       "      <th>month_of_year</th>\n",
       "      <th></th>\n",
       "      <th></th>\n",
       "      <th></th>\n",
       "      <th></th>\n",
       "      <th></th>\n",
       "      <th></th>\n",
       "      <th></th>\n",
       "      <th></th>\n",
       "    </tr>\n",
       "  </thead>\n",
       "  <tbody>\n",
       "    <tr>\n",
       "      <th>1</th>\n",
       "      <td>66.0</td>\n",
       "      <td>307.969697</td>\n",
       "      <td>201.777484</td>\n",
       "      <td>125.0</td>\n",
       "      <td>165.00</td>\n",
       "      <td>191.0</td>\n",
       "      <td>490.25</td>\n",
       "      <td>856.0</td>\n",
       "    </tr>\n",
       "    <tr>\n",
       "      <th>2</th>\n",
       "      <td>56.0</td>\n",
       "      <td>292.535714</td>\n",
       "      <td>181.688341</td>\n",
       "      <td>138.0</td>\n",
       "      <td>169.00</td>\n",
       "      <td>185.5</td>\n",
       "      <td>530.50</td>\n",
       "      <td>658.0</td>\n",
       "    </tr>\n",
       "    <tr>\n",
       "      <th>3</th>\n",
       "      <td>62.0</td>\n",
       "      <td>342.661290</td>\n",
       "      <td>215.576615</td>\n",
       "      <td>159.0</td>\n",
       "      <td>183.00</td>\n",
       "      <td>212.5</td>\n",
       "      <td>589.25</td>\n",
       "      <td>809.0</td>\n",
       "    </tr>\n",
       "    <tr>\n",
       "      <th>4</th>\n",
       "      <td>60.0</td>\n",
       "      <td>330.633333</td>\n",
       "      <td>205.939350</td>\n",
       "      <td>150.0</td>\n",
       "      <td>188.50</td>\n",
       "      <td>211.5</td>\n",
       "      <td>549.00</td>\n",
       "      <td>781.0</td>\n",
       "    </tr>\n",
       "    <tr>\n",
       "      <th>5</th>\n",
       "      <td>62.0</td>\n",
       "      <td>311.661290</td>\n",
       "      <td>187.813558</td>\n",
       "      <td>137.0</td>\n",
       "      <td>171.50</td>\n",
       "      <td>195.5</td>\n",
       "      <td>519.00</td>\n",
       "      <td>680.0</td>\n",
       "    </tr>\n",
       "    <tr>\n",
       "      <th>6</th>\n",
       "      <td>60.0</td>\n",
       "      <td>284.033333</td>\n",
       "      <td>161.688754</td>\n",
       "      <td>130.0</td>\n",
       "      <td>163.75</td>\n",
       "      <td>193.0</td>\n",
       "      <td>462.25</td>\n",
       "      <td>585.0</td>\n",
       "    </tr>\n",
       "    <tr>\n",
       "      <th>7</th>\n",
       "      <td>62.0</td>\n",
       "      <td>268.387097</td>\n",
       "      <td>155.169538</td>\n",
       "      <td>139.0</td>\n",
       "      <td>171.25</td>\n",
       "      <td>187.0</td>\n",
       "      <td>390.25</td>\n",
       "      <td>603.0</td>\n",
       "    </tr>\n",
       "    <tr>\n",
       "      <th>8</th>\n",
       "      <td>62.0</td>\n",
       "      <td>281.483871</td>\n",
       "      <td>165.410443</td>\n",
       "      <td>131.0</td>\n",
       "      <td>159.25</td>\n",
       "      <td>179.0</td>\n",
       "      <td>473.75</td>\n",
       "      <td>576.0</td>\n",
       "    </tr>\n",
       "    <tr>\n",
       "      <th>9</th>\n",
       "      <td>60.0</td>\n",
       "      <td>272.200000</td>\n",
       "      <td>166.169385</td>\n",
       "      <td>123.0</td>\n",
       "      <td>163.75</td>\n",
       "      <td>178.0</td>\n",
       "      <td>435.50</td>\n",
       "      <td>830.0</td>\n",
       "    </tr>\n",
       "    <tr>\n",
       "      <th>10</th>\n",
       "      <td>62.0</td>\n",
       "      <td>269.096774</td>\n",
       "      <td>165.553093</td>\n",
       "      <td>145.0</td>\n",
       "      <td>166.00</td>\n",
       "      <td>179.5</td>\n",
       "      <td>403.00</td>\n",
       "      <td>611.0</td>\n",
       "    </tr>\n",
       "    <tr>\n",
       "      <th>11</th>\n",
       "      <td>60.0</td>\n",
       "      <td>307.933333</td>\n",
       "      <td>183.484804</td>\n",
       "      <td>140.0</td>\n",
       "      <td>176.75</td>\n",
       "      <td>205.0</td>\n",
       "      <td>516.75</td>\n",
       "      <td>700.0</td>\n",
       "    </tr>\n",
       "    <tr>\n",
       "      <th>12</th>\n",
       "      <td>62.0</td>\n",
       "      <td>348.758065</td>\n",
       "      <td>242.808815</td>\n",
       "      <td>126.0</td>\n",
       "      <td>183.00</td>\n",
       "      <td>202.0</td>\n",
       "      <td>572.50</td>\n",
       "      <td>1049.0</td>\n",
       "    </tr>\n",
       "  </tbody>\n",
       "</table>\n",
       "</div>"
      ],
      "text/plain": [
       "              Number                                                        \\\n",
       "               count        mean         std    min     25%    50%     75%   \n",
       "month_of_year                                                                \n",
       "1               66.0  307.969697  201.777484  125.0  165.00  191.0  490.25   \n",
       "2               56.0  292.535714  181.688341  138.0  169.00  185.5  530.50   \n",
       "3               62.0  342.661290  215.576615  159.0  183.00  212.5  589.25   \n",
       "4               60.0  330.633333  205.939350  150.0  188.50  211.5  549.00   \n",
       "5               62.0  311.661290  187.813558  137.0  171.50  195.5  519.00   \n",
       "6               60.0  284.033333  161.688754  130.0  163.75  193.0  462.25   \n",
       "7               62.0  268.387097  155.169538  139.0  171.25  187.0  390.25   \n",
       "8               62.0  281.483871  165.410443  131.0  159.25  179.0  473.75   \n",
       "9               60.0  272.200000  166.169385  123.0  163.75  178.0  435.50   \n",
       "10              62.0  269.096774  165.553093  145.0  166.00  179.5  403.00   \n",
       "11              60.0  307.933333  183.484804  140.0  176.75  205.0  516.75   \n",
       "12              62.0  348.758065  242.808815  126.0  183.00  202.0  572.50   \n",
       "\n",
       "                       \n",
       "                  max  \n",
       "month_of_year          \n",
       "1               856.0  \n",
       "2               658.0  \n",
       "3               809.0  \n",
       "4               781.0  \n",
       "5               680.0  \n",
       "6               585.0  \n",
       "7               603.0  \n",
       "8               576.0  \n",
       "9               830.0  \n",
       "10              611.0  \n",
       "11              700.0  \n",
       "12             1049.0  "
      ]
     },
     "execution_count": 6,
     "metadata": {},
     "output_type": "execute_result"
    }
   ],
   "source": [
    "del data['day_of_week']\n",
    "data['month_of_year'] = data['Date'].dt.month\n",
    "data.groupby(data['month_of_year']).describe()"
   ]
  },
  {
   "cell_type": "code",
   "execution_count": 7,
   "metadata": {
    "collapsed": true
   },
   "outputs": [],
   "source": [
    "del data['month_of_year']"
   ]
  },
  {
   "cell_type": "markdown",
   "metadata": {},
   "source": [
    "# Graphical Summaries"
   ]
  },
  {
   "cell_type": "markdown",
   "metadata": {},
   "source": [
    "## time plot"
   ]
  },
  {
   "cell_type": "code",
   "execution_count": 8,
   "metadata": {
    "collapsed": true
   },
   "outputs": [],
   "source": [
    "data1 = data.copy()\n",
    "data1.set_index(data1['Date'],inplace=True)\n",
    "del data1['Date']\n"
   ]
  },
  {
   "cell_type": "code",
   "execution_count": 104,
   "metadata": {
    "scrolled": true
   },
   "outputs": [
    {
     "data": {
      "text/plain": [
       "<matplotlib.axes._subplots.AxesSubplot at 0x1088def0>"
      ]
     },
     "execution_count": 104,
     "metadata": {},
     "output_type": "execute_result"
    },
    {
     "data": {
      "image/png": "[encoded data removed]",
      "text/plain": [
       "<Figure size 720x216 with 1 Axes>"
      ]
     },
     "metadata": {},
     "output_type": "display_data"
    }
   ],
   "source": [
    "data1.plot(figsize=(10,3))"
   ]
  },
  {
   "cell_type": "code",
   "execution_count": 44,
   "metadata": {},
   "outputs": [
    {
     "data": {
      "image/png": "[encoded data removed]",
      "text/plain": [
       "<Figure size 720x360 with 1 Axes>"
      ]
     },
     "metadata": {},
     "output_type": "display_data"
    }
   ],
   "source": [
    "data1_week = data1.resample('W').mean()\n",
    "data1_week.dropna(inplace=True)\n",
    "data1_week.plot(figsize=(10,5))\n",
    "plt.legend(bbox_to_anchor=(1.25, 0.5))\n",
    "plt.title(\"number\")\n",
    "sns.despine()"
   ]
  },
  {
   "cell_type": "markdown",
   "metadata": {},
   "source": [
    "## seasonal plot"
   ]
  },
  {
   "cell_type": "code",
   "execution_count": 24,
   "metadata": {},
   "outputs": [
    {
     "data": {
      "text/html": [
       "<div>\n",
       "<style scoped>\n",
       "    .dataframe tbody tr th:only-of-type {\n",
       "        vertical-align: middle;\n",
       "    }\n",
       "\n",
       "    .dataframe tbody tr th {\n",
       "        vertical-align: top;\n",
       "    }\n",
       "\n",
       "    .dataframe thead th {\n",
       "        text-align: right;\n",
       "    }\n",
       "</style>\n",
       "<table border=\"1\" class=\"dataframe\">\n",
       "  <thead>\n",
       "    <tr style=\"text-align: right;\">\n",
       "      <th></th>\n",
       "      <th>Date</th>\n",
       "      <th>Number</th>\n",
       "    </tr>\n",
       "    <tr>\n",
       "      <th>Date</th>\n",
       "      <th></th>\n",
       "      <th></th>\n",
       "    </tr>\n",
       "  </thead>\n",
       "  <tbody>\n",
       "    <tr>\n",
       "      <th>2017-01-01</th>\n",
       "      <td>2017-01-01</td>\n",
       "      <td>636.0</td>\n",
       "    </tr>\n",
       "    <tr>\n",
       "      <th>2017-01-02</th>\n",
       "      <td>2017-01-02</td>\n",
       "      <td>232.0</td>\n",
       "    </tr>\n",
       "    <tr>\n",
       "      <th>2017-01-03</th>\n",
       "      <td>2017-01-03</td>\n",
       "      <td>856.0</td>\n",
       "    </tr>\n",
       "    <tr>\n",
       "      <th>2017-01-04</th>\n",
       "      <td>2017-01-04</td>\n",
       "      <td>663.0</td>\n",
       "    </tr>\n",
       "    <tr>\n",
       "      <th>2017-01-05</th>\n",
       "      <td>2017-01-05</td>\n",
       "      <td>488.0</td>\n",
       "    </tr>\n",
       "  </tbody>\n",
       "</table>\n",
       "</div>"
      ],
      "text/plain": [
       "                 Date  Number\n",
       "Date                         \n",
       "2017-01-01 2017-01-01   636.0\n",
       "2017-01-02 2017-01-02   232.0\n",
       "2017-01-03 2017-01-03   856.0\n",
       "2017-01-04 2017-01-04   663.0\n",
       "2017-01-05 2017-01-05   488.0"
      ]
     },
     "execution_count": 24,
     "metadata": {},
     "output_type": "execute_result"
    }
   ],
   "source": [
    "data2 = data.copy()\n",
    "data2.set_index(data2['Date'],inplace=True)\n",
    "data2.head()"
   ]
  },
  {
   "cell_type": "code",
   "execution_count": 39,
   "metadata": {},
   "outputs": [
    {
     "data": {
      "text/html": [
       "<div>\n",
       "<style scoped>\n",
       "    .dataframe tbody tr th:only-of-type {\n",
       "        vertical-align: middle;\n",
       "    }\n",
       "\n",
       "    .dataframe tbody tr th {\n",
       "        vertical-align: top;\n",
       "    }\n",
       "\n",
       "    .dataframe thead th {\n",
       "        text-align: right;\n",
       "    }\n",
       "</style>\n",
       "<table border=\"1\" class=\"dataframe\">\n",
       "  <thead>\n",
       "    <tr style=\"text-align: right;\">\n",
       "      <th></th>\n",
       "      <th>Date</th>\n",
       "      <th>Number</th>\n",
       "    </tr>\n",
       "  </thead>\n",
       "  <tbody>\n",
       "    <tr>\n",
       "      <th>0</th>\n",
       "      <td>2017-01-31</td>\n",
       "      <td>9395.0</td>\n",
       "    </tr>\n",
       "    <tr>\n",
       "      <th>1</th>\n",
       "      <td>2017-02-28</td>\n",
       "      <td>8114.0</td>\n",
       "    </tr>\n",
       "    <tr>\n",
       "      <th>2</th>\n",
       "      <td>2017-03-31</td>\n",
       "      <td>11316.0</td>\n",
       "    </tr>\n",
       "    <tr>\n",
       "      <th>3</th>\n",
       "      <td>2017-04-30</td>\n",
       "      <td>9295.0</td>\n",
       "    </tr>\n",
       "    <tr>\n",
       "      <th>4</th>\n",
       "      <td>2017-05-31</td>\n",
       "      <td>8925.0</td>\n",
       "    </tr>\n",
       "  </tbody>\n",
       "</table>\n",
       "</div>"
      ],
      "text/plain": [
       "        Date   Number\n",
       "0 2017-01-31   9395.0\n",
       "1 2017-02-28   8114.0\n",
       "2 2017-03-31  11316.0\n",
       "3 2017-04-30   9295.0\n",
       "4 2017-05-31   8925.0"
      ]
     },
     "execution_count": 39,
     "metadata": {},
     "output_type": "execute_result"
    }
   ],
   "source": [
    "data2_month = data2['Number'].resample('M').sum()\n",
    "data2_month = data2_month.to_frame()\n",
    "data2_month.reset_index(inplace=True)\n",
    "data2_month.head()"
   ]
  },
  {
   "cell_type": "code",
   "execution_count": 40,
   "metadata": {},
   "outputs": [
    {
     "data": {
      "text/html": [
       "<div>\n",
       "<style scoped>\n",
       "    .dataframe tbody tr th:only-of-type {\n",
       "        vertical-align: middle;\n",
       "    }\n",
       "\n",
       "    .dataframe tbody tr th {\n",
       "        vertical-align: top;\n",
       "    }\n",
       "\n",
       "    .dataframe thead th {\n",
       "        text-align: right;\n",
       "    }\n",
       "</style>\n",
       "<table border=\"1\" class=\"dataframe\">\n",
       "  <thead>\n",
       "    <tr style=\"text-align: right;\">\n",
       "      <th></th>\n",
       "      <th>Number</th>\n",
       "      <th>month</th>\n",
       "      <th>year</th>\n",
       "    </tr>\n",
       "    <tr>\n",
       "      <th>Date</th>\n",
       "      <th></th>\n",
       "      <th></th>\n",
       "      <th></th>\n",
       "    </tr>\n",
       "  </thead>\n",
       "  <tbody>\n",
       "    <tr>\n",
       "      <th>2017-01-31</th>\n",
       "      <td>9395.0</td>\n",
       "      <td>1</td>\n",
       "      <td>2017</td>\n",
       "    </tr>\n",
       "    <tr>\n",
       "      <th>2017-02-28</th>\n",
       "      <td>8114.0</td>\n",
       "      <td>2</td>\n",
       "      <td>2017</td>\n",
       "    </tr>\n",
       "    <tr>\n",
       "      <th>2017-03-31</th>\n",
       "      <td>11316.0</td>\n",
       "      <td>3</td>\n",
       "      <td>2017</td>\n",
       "    </tr>\n",
       "    <tr>\n",
       "      <th>2017-04-30</th>\n",
       "      <td>9295.0</td>\n",
       "      <td>4</td>\n",
       "      <td>2017</td>\n",
       "    </tr>\n",
       "    <tr>\n",
       "      <th>2017-05-31</th>\n",
       "      <td>8925.0</td>\n",
       "      <td>5</td>\n",
       "      <td>2017</td>\n",
       "    </tr>\n",
       "  </tbody>\n",
       "</table>\n",
       "</div>"
      ],
      "text/plain": [
       "             Number  month  year\n",
       "Date                            \n",
       "2017-01-31   9395.0      1  2017\n",
       "2017-02-28   8114.0      2  2017\n",
       "2017-03-31  11316.0      3  2017\n",
       "2017-04-30   9295.0      4  2017\n",
       "2017-05-31   8925.0      5  2017"
      ]
     },
     "execution_count": 40,
     "metadata": {},
     "output_type": "execute_result"
    }
   ],
   "source": [
    "data2_month.loc[:,'month'] = data2_month['Date'].apply(lambda x:x.month)\n",
    "data2_month.loc[:,'year'] = data2_month['Date'].apply(lambda x:x.year)\n",
    "data2_month.set_index(data2_month['Date'],inplace=True)\n",
    "del data2_month['Date']\n",
    "data2_month.head()"
   ]
  },
  {
   "cell_type": "code",
   "execution_count": 43,
   "metadata": {},
   "outputs": [
    {
     "data": {
      "image/png": "[encoded data removed]",
      "text/plain": [
       "<Figure size 720x360 with 1 Axes>"
      ]
     },
     "metadata": {},
     "output_type": "display_data"
    }
   ],
   "source": [
    "years = [2017,2018]\n",
    "plt.figure(figsize=(10,5))\n",
    "for i,y in enumerate(years):\n",
    "    plt.plot('month','Number',data=data2_month.loc[data2_month.year==y, :],label = y) \n",
    "    plt.legend()\n",
    "#plt.title('Number of calls received at the call centre')\n",
    "\n",
    "plt.ylabel('$Number of Calls$')\n",
    "plt.yticks(fontsize=12, alpha=.7)\n",
    "plt.title(\"Monthly Seasonal Plot\", fontsize=22)\n",
    "plt.grid(axis='y', alpha=.3)"
   ]
  },
  {
   "cell_type": "markdown",
   "metadata": {},
   "source": [
    "# Decomposition"
   ]
  },
  {
   "cell_type": "code",
   "execution_count": 45,
   "metadata": {
    "collapsed": true
   },
   "outputs": [],
   "source": [
    "from statsmodels.tsa.seasonal import seasonal_decompose\n",
    "data3 = data.copy()\n",
    "data3.set_index(data3['Date'],inplace=True)\n",
    "del data3['Date']\n",
    "data3.dropna(inplace=True)"
   ]
  },
  {
   "cell_type": "code",
   "execution_count": 46,
   "metadata": {
    "collapsed": true
   },
   "outputs": [],
   "source": [
    "decomposition =seasonal_decompose(data3,model='additive')\n",
    "data3.trend = decomposition.trend\n",
    "data3.seasonalseasonal = decomposition.seasonal\n",
    "data3.residual = decomposition.resid"
   ]
  },
  {
   "cell_type": "code",
   "execution_count": 48,
   "metadata": {
    "scrolled": true
   },
   "outputs": [
    {
     "data": {
      "image/png": "[encoded data removed]",
      "text/plain": [
       "<Figure size 432x288 with 4 Axes>"
      ]
     },
     "execution_count": 48,
     "metadata": {},
     "output_type": "execute_result"
    },
    {
     "data": {
      "image/png": "[encoded data removed]",
      "text/plain": [
       "<Figure size 432x288 with 4 Axes>"
      ]
     },
     "metadata": {},
     "output_type": "display_data"
    }
   ],
   "source": [
    "#plt.figure(figsize=(15,5))\n",
    "decomposition.plot()"
   ]
  },
  {
   "cell_type": "markdown",
   "metadata": {},
   "source": [
    "# Baseline model"
   ]
  },
  {
   "cell_type": "markdown",
   "metadata": {},
   "source": [
    "## Naive Forecast 1 \n",
    "* Use the most recent observation as a forecast"
   ]
  },
  {
   "cell_type": "code",
   "execution_count": 49,
   "metadata": {},
   "outputs": [
    {
     "data": {
      "text/html": [
       "<div>\n",
       "<style scoped>\n",
       "    .dataframe tbody tr th:only-of-type {\n",
       "        vertical-align: middle;\n",
       "    }\n",
       "\n",
       "    .dataframe tbody tr th {\n",
       "        vertical-align: top;\n",
       "    }\n",
       "\n",
       "    .dataframe thead th {\n",
       "        text-align: right;\n",
       "    }\n",
       "</style>\n",
       "<table border=\"1\" class=\"dataframe\">\n",
       "  <thead>\n",
       "    <tr style=\"text-align: right;\">\n",
       "      <th></th>\n",
       "      <th>number</th>\n",
       "    </tr>\n",
       "    <tr>\n",
       "      <th>Date</th>\n",
       "      <th></th>\n",
       "    </tr>\n",
       "  </thead>\n",
       "  <tbody>\n",
       "    <tr>\n",
       "      <th>2017-01-01</th>\n",
       "      <td>636.0</td>\n",
       "    </tr>\n",
       "    <tr>\n",
       "      <th>2017-01-02</th>\n",
       "      <td>232.0</td>\n",
       "    </tr>\n",
       "    <tr>\n",
       "      <th>2017-01-03</th>\n",
       "      <td>856.0</td>\n",
       "    </tr>\n",
       "    <tr>\n",
       "      <th>2017-01-04</th>\n",
       "      <td>663.0</td>\n",
       "    </tr>\n",
       "    <tr>\n",
       "      <th>2017-01-05</th>\n",
       "      <td>488.0</td>\n",
       "    </tr>\n",
       "  </tbody>\n",
       "</table>\n",
       "</div>"
      ],
      "text/plain": [
       "            number\n",
       "Date              \n",
       "2017-01-01   636.0\n",
       "2017-01-02   232.0\n",
       "2017-01-03   856.0\n",
       "2017-01-04   663.0\n",
       "2017-01-05   488.0"
      ]
     },
     "execution_count": 49,
     "metadata": {},
     "output_type": "execute_result"
    }
   ],
   "source": [
    "data4 = data.copy()\n",
    "data4.set_index(data['Date'],inplace=True)\n",
    "del data4['Date']\n",
    "data4.rename(columns = {data4.columns[0]:'number'},inplace=True)\n",
    "data4.head()"
   ]
  },
  {
   "cell_type": "code",
   "execution_count": 50,
   "metadata": {},
   "outputs": [
    {
     "data": {
      "text/html": [
       "<div>\n",
       "<style scoped>\n",
       "    .dataframe tbody tr th:only-of-type {\n",
       "        vertical-align: middle;\n",
       "    }\n",
       "\n",
       "    .dataframe tbody tr th {\n",
       "        vertical-align: top;\n",
       "    }\n",
       "\n",
       "    .dataframe thead th {\n",
       "        text-align: right;\n",
       "    }\n",
       "</style>\n",
       "<table border=\"1\" class=\"dataframe\">\n",
       "  <thead>\n",
       "    <tr style=\"text-align: right;\">\n",
       "      <th></th>\n",
       "      <th>number</th>\n",
       "      <th>naive_1</th>\n",
       "    </tr>\n",
       "    <tr>\n",
       "      <th>Date</th>\n",
       "      <th></th>\n",
       "      <th></th>\n",
       "    </tr>\n",
       "  </thead>\n",
       "  <tbody>\n",
       "    <tr>\n",
       "      <th>2017-01-01</th>\n",
       "      <td>636.0</td>\n",
       "      <td>NaN</td>\n",
       "    </tr>\n",
       "    <tr>\n",
       "      <th>2017-01-02</th>\n",
       "      <td>232.0</td>\n",
       "      <td>636.0</td>\n",
       "    </tr>\n",
       "    <tr>\n",
       "      <th>2017-01-03</th>\n",
       "      <td>856.0</td>\n",
       "      <td>232.0</td>\n",
       "    </tr>\n",
       "    <tr>\n",
       "      <th>2017-01-04</th>\n",
       "      <td>663.0</td>\n",
       "      <td>856.0</td>\n",
       "    </tr>\n",
       "    <tr>\n",
       "      <th>2017-01-05</th>\n",
       "      <td>488.0</td>\n",
       "      <td>663.0</td>\n",
       "    </tr>\n",
       "  </tbody>\n",
       "</table>\n",
       "</div>"
      ],
      "text/plain": [
       "            number  naive_1\n",
       "Date                       \n",
       "2017-01-01   636.0      NaN\n",
       "2017-01-02   232.0    636.0\n",
       "2017-01-03   856.0    232.0\n",
       "2017-01-04   663.0    856.0\n",
       "2017-01-05   488.0    663.0"
      ]
     },
     "execution_count": 50,
     "metadata": {},
     "output_type": "execute_result"
    }
   ],
   "source": [
    "data4['naive_1'] = data4.shift(1)\n",
    "data4.head()"
   ]
  },
  {
   "cell_type": "code",
   "execution_count": 52,
   "metadata": {},
   "outputs": [
    {
     "data": {
      "text/html": [
       "<div>\n",
       "<style scoped>\n",
       "    .dataframe tbody tr th:only-of-type {\n",
       "        vertical-align: middle;\n",
       "    }\n",
       "\n",
       "    .dataframe tbody tr th {\n",
       "        vertical-align: top;\n",
       "    }\n",
       "\n",
       "    .dataframe thead th {\n",
       "        text-align: right;\n",
       "    }\n",
       "</style>\n",
       "<table border=\"1\" class=\"dataframe\">\n",
       "  <thead>\n",
       "    <tr style=\"text-align: right;\">\n",
       "      <th></th>\n",
       "      <th>number</th>\n",
       "      <th>naive_1</th>\n",
       "    </tr>\n",
       "    <tr>\n",
       "      <th>Date</th>\n",
       "      <th></th>\n",
       "      <th></th>\n",
       "    </tr>\n",
       "  </thead>\n",
       "  <tbody>\n",
       "    <tr>\n",
       "      <th>2019-01-04</th>\n",
       "      <td>663.0</td>\n",
       "      <td>856.0</td>\n",
       "    </tr>\n",
       "    <tr>\n",
       "      <th>2019-01-05</th>\n",
       "      <td>NaN</td>\n",
       "      <td>663.0</td>\n",
       "    </tr>\n",
       "    <tr>\n",
       "      <th>2019-01-06</th>\n",
       "      <td>NaN</td>\n",
       "      <td>NaN</td>\n",
       "    </tr>\n",
       "    <tr>\n",
       "      <th>2019-01-07</th>\n",
       "      <td>NaN</td>\n",
       "      <td>NaN</td>\n",
       "    </tr>\n",
       "    <tr>\n",
       "      <th>2019-01-08</th>\n",
       "      <td>NaN</td>\n",
       "      <td>NaN</td>\n",
       "    </tr>\n",
       "    <tr>\n",
       "      <th>2019-01-09</th>\n",
       "      <td>NaN</td>\n",
       "      <td>NaN</td>\n",
       "    </tr>\n",
       "    <tr>\n",
       "      <th>2019-01-10</th>\n",
       "      <td>NaN</td>\n",
       "      <td>NaN</td>\n",
       "    </tr>\n",
       "    <tr>\n",
       "      <th>2019-01-11</th>\n",
       "      <td>NaN</td>\n",
       "      <td>NaN</td>\n",
       "    </tr>\n",
       "  </tbody>\n",
       "</table>\n",
       "</div>"
      ],
      "text/plain": [
       "            number  naive_1\n",
       "Date                       \n",
       "2019-01-04   663.0    856.0\n",
       "2019-01-05     NaN    663.0\n",
       "2019-01-06     NaN      NaN\n",
       "2019-01-07     NaN      NaN\n",
       "2019-01-08     NaN      NaN\n",
       "2019-01-09     NaN      NaN\n",
       "2019-01-10     NaN      NaN\n",
       "2019-01-11     NaN      NaN"
      ]
     },
     "execution_count": 52,
     "metadata": {},
     "output_type": "execute_result"
    }
   ],
   "source": [
    "data4.tail(8)"
   ]
  },
  {
   "cell_type": "markdown",
   "metadata": {},
   "source": [
    "## Naive Forecast 2\n",
    "*  Remove seasonality from the original data\n",
    "*  Use the most recent seasonally adjusted value as a forecast"
   ]
  },
  {
   "cell_type": "markdown",
   "metadata": {},
   "source": [
    "# Extrapolation Models"
   ]
  },
  {
   "cell_type": "markdown",
   "metadata": {},
   "source": [
    "### Split the initial set (first 70%) and a test set (remaining 30%)"
   ]
  },
  {
   "cell_type": "code",
   "execution_count": 164,
   "metadata": {},
   "outputs": [
    {
     "data": {
      "text/html": [
       "<div>\n",
       "<style scoped>\n",
       "    .dataframe tbody tr th:only-of-type {\n",
       "        vertical-align: middle;\n",
       "    }\n",
       "\n",
       "    .dataframe tbody tr th {\n",
       "        vertical-align: top;\n",
       "    }\n",
       "\n",
       "    .dataframe thead th {\n",
       "        text-align: right;\n",
       "    }\n",
       "</style>\n",
       "<table border=\"1\" class=\"dataframe\">\n",
       "  <thead>\n",
       "    <tr style=\"text-align: right;\">\n",
       "      <th></th>\n",
       "      <th>Number</th>\n",
       "    </tr>\n",
       "    <tr>\n",
       "      <th>Date</th>\n",
       "      <th></th>\n",
       "    </tr>\n",
       "  </thead>\n",
       "  <tbody>\n",
       "    <tr>\n",
       "      <th>2017-01-01</th>\n",
       "      <td>636.0</td>\n",
       "    </tr>\n",
       "    <tr>\n",
       "      <th>2017-01-02</th>\n",
       "      <td>232.0</td>\n",
       "    </tr>\n",
       "    <tr>\n",
       "      <th>2017-01-03</th>\n",
       "      <td>856.0</td>\n",
       "    </tr>\n",
       "    <tr>\n",
       "      <th>2017-01-04</th>\n",
       "      <td>663.0</td>\n",
       "    </tr>\n",
       "    <tr>\n",
       "      <th>2017-01-05</th>\n",
       "      <td>488.0</td>\n",
       "    </tr>\n",
       "  </tbody>\n",
       "</table>\n",
       "</div>"
      ],
      "text/plain": [
       "            Number\n",
       "Date              \n",
       "2017-01-01   636.0\n",
       "2017-01-02   232.0\n",
       "2017-01-03   856.0\n",
       "2017-01-04   663.0\n",
       "2017-01-05   488.0"
      ]
     },
     "execution_count": 164,
     "metadata": {},
     "output_type": "execute_result"
    }
   ],
   "source": [
    "data5 = data.copy()\n",
    "data5.set_index(data5['Date'],inplace=True)\n",
    "del data5['Date']\n",
    "data5.head()"
   ]
  },
  {
   "cell_type": "code",
   "execution_count": 293,
   "metadata": {
    "collapsed": true
   },
   "outputs": [],
   "source": [
    "predict_set = data5[data5.index>='2019-01-05'] # dataset need to be predicted \n",
    "train_set = data5[data5.index<'2019-01-05']\n",
    "init_set = train_set[train_set.index < '2018-05-24']\n",
    "test_set = train_set[train_set.index >= '2018-05-24']"
   ]
  },
  {
   "cell_type": "markdown",
   "metadata": {},
   "source": [
    "* observed value for the initialisation set and test set"
   ]
  },
  {
   "cell_type": "code",
   "execution_count": 190,
   "metadata": {},
   "outputs": [
    {
     "data": {
      "text/plain": [
       "Date\n",
       "2018-05-24     620.0\n",
       "2018-05-25     656.0\n",
       "2018-05-26     588.0\n",
       "2018-05-27     205.0\n",
       "2018-05-28     178.0\n",
       "2018-05-29     181.0\n",
       "2018-05-30     201.0\n",
       "2018-05-31     582.0\n",
       "2018-06-01     513.0\n",
       "2018-06-02     190.0\n",
       "2018-06-03     191.0\n",
       "2018-06-04     165.0\n",
       "2018-06-05     182.0\n",
       "2018-06-06     189.0\n",
       "2018-06-07     558.0\n",
       "2018-06-08     535.0\n",
       "2018-06-09     213.0\n",
       "2018-06-10     155.0\n",
       "2018-06-11     235.0\n",
       "2018-06-12     165.0\n",
       "2018-06-13     195.0\n",
       "2018-06-14     585.0\n",
       "2018-06-15     580.0\n",
       "2018-06-16     219.0\n",
       "2018-06-17     178.0\n",
       "2018-06-18     250.0\n",
       "2018-06-19     177.0\n",
       "2018-06-20     173.0\n",
       "2018-06-21     559.0\n",
       "2018-06-22     537.0\n",
       "               ...  \n",
       "2018-12-06     651.0\n",
       "2018-12-07     637.0\n",
       "2018-12-08     227.0\n",
       "2018-12-09     203.0\n",
       "2018-12-10     198.0\n",
       "2018-12-11     197.0\n",
       "2018-12-12     189.0\n",
       "2018-12-13     696.0\n",
       "2018-12-14     703.0\n",
       "2018-12-15     247.0\n",
       "2018-12-16     183.0\n",
       "2018-12-17     190.0\n",
       "2018-12-18     201.0\n",
       "2018-12-19     202.0\n",
       "2018-12-20     810.0\n",
       "2018-12-21     816.0\n",
       "2018-12-22     241.0\n",
       "2018-12-23     228.0\n",
       "2018-12-24     187.0\n",
       "2018-12-25     424.0\n",
       "2018-12-26     896.0\n",
       "2018-12-27    1049.0\n",
       "2018-12-28     812.0\n",
       "2018-12-29     234.0\n",
       "2018-12-30     212.0\n",
       "2018-12-31     168.0\n",
       "2019-01-01     636.0\n",
       "2019-01-02     232.0\n",
       "2019-01-03     856.0\n",
       "2019-01-04     663.0\n",
       "Name: observed, Length: 226, dtype: float64"
      ]
     },
     "execution_count": 190,
     "metadata": {},
     "output_type": "execute_result"
    }
   ],
   "source": [
    "obs_init = pd.Series(init_set['Number'].values, index=init_set.index)\n",
    "obs_init.rename('observed',inplace=True)\n",
    "obs_test = pd.Series(test_set['Number'].values, index=test_set.index)\n",
    "obs_test.rename('observed',inplace=True)"
   ]
  },
  {
   "cell_type": "markdown",
   "metadata": {},
   "source": [
    "## Simple Exponential Smoothing(SES)"
   ]
  },
  {
   "cell_type": "code",
   "execution_count": 235,
   "metadata": {
    "collapsed": true
   },
   "outputs": [],
   "source": [
    "from statsmodels.tsa.api import ExponentialSmoothing, SimpleExpSmoothing, Holt\n",
    "\n",
    "\n",
    "#fit1 = SimpleExpSmoothing(init_set).fit(smoothing_level=0.2,optimized=False)\n",
    "fit1 = SimpleExpSmoothing(init_set).fit()\n",
    "#predictions for the test set\n",
    "fcast1 = fit1.forecast(226)"
   ]
  },
  {
   "cell_type": "code",
   "execution_count": 232,
   "metadata": {
    "collapsed": true
   },
   "outputs": [],
   "source": [
    "fit1 = SimpleExpSmoothing(init_set).fit(smoothing_level=0.0,optimized=False)\n",
    "\n",
    "fcast1 = fit1.forecast(226)"
   ]
  },
  {
   "cell_type": "code",
   "execution_count": 236,
   "metadata": {},
   "outputs": [
    {
     "data": {
      "text/plain": [
       "{'smoothing_level': 0.0,\n",
       " 'smoothing_slope': nan,\n",
       " 'smoothing_seasonal': nan,\n",
       " 'damping_slope': nan,\n",
       " 'initial_level': 295.42134617199537,\n",
       " 'initial_slope': nan,\n",
       " 'initial_seasons': array([], dtype=float64),\n",
       " 'use_boxcox': False,\n",
       " 'lamda': None,\n",
       " 'remove_bias': False}"
      ]
     },
     "execution_count": 236,
     "metadata": {},
     "output_type": "execute_result"
    }
   ],
   "source": [
    "fit1.params"
   ]
  },
  {
   "cell_type": "markdown",
   "metadata": {},
   "source": [
    "## Error Statistics for initialisation set"
   ]
  },
  {
   "cell_type": "code",
   "execution_count": 237,
   "metadata": {},
   "outputs": [
    {
     "data": {
      "text/plain": [
       "33533.168996845445"
      ]
     },
     "execution_count": 237,
     "metadata": {},
     "output_type": "execute_result"
    }
   ],
   "source": [
    "MSE(obs_init,fit1.fittedvalues)"
   ]
  },
  {
   "cell_type": "markdown",
   "metadata": {},
   "source": [
    "## Error Statistics for test set"
   ]
  },
  {
   "cell_type": "code",
   "execution_count": 238,
   "metadata": {},
   "outputs": [
    {
     "data": {
      "text/plain": [
       "40026.622683318375"
      ]
     },
     "execution_count": 238,
     "metadata": {},
     "output_type": "execute_result"
    }
   ],
   "source": [
    "MSE(obs_test,fcast1)"
   ]
  },
  {
   "cell_type": "code",
   "execution_count": null,
   "metadata": {
    "collapsed": true
   },
   "outputs": [],
   "source": [
    "plt.figure(figsize=(10,5))\n",
    "fit1 = SimpleExpSmoothing(init_set).fit(smoothing_level=0.2,optimized=False)\n",
    "fit1.fittedvalues.plot(marker='o',  color='blue')\n",
    "fit2 = SimpleExpSmoothing(init_set).fit(smoothing_level=0.6,optimized=False)\n",
    "fit2.fittedvalues.plot(marker='o', color='red')\n",
    "fit3 = SimpleExpSmoothing(data1_week).fit()\n",
    "\n",
    "obs.plot(marker='*', legend=True)"
   ]
  },
  {
   "cell_type": "code",
   "execution_count": 111,
   "metadata": {},
   "outputs": [
    {
     "data": {
      "text/plain": [
       "<matplotlib.axes._subplots.AxesSubplot at 0x10cc7b70>"
      ]
     },
     "execution_count": 111,
     "metadata": {},
     "output_type": "execute_result"
    },
    {
     "data": {
      "image/png": "[encoded data removed]",
      "text/plain": [
       "<Figure size 720x360 with 1 Axes>"
      ]
     },
     "metadata": {},
     "output_type": "display_data"
    }
   ],
   "source": [
    "plt.figure(figsize=(10,5))\n",
    "fit1 = SimpleExpSmoothing(data1_week).fit(smoothing_level=0.2,optimized=False)\n",
    "fcast1 = fit1.forecast(7).rename(r'$\\alpha=0.2$')\n",
    "#plt.figure(figsize=(10,5))\n",
    "\n",
    "fcast1.plot(marker='o', color='blue', legend=True)\n",
    "fit1.fittedvalues.plot(marker='o',  color='blue')\n",
    "\n",
    "fit2 = SimpleExpSmoothing(data1_week).fit(smoothing_level=0.6,optimized=False)\n",
    "fcast2 = fit2.forecast(7).rename(r'$\\alpha=0.6$')\n",
    "# plot\n",
    "fcast2.plot(marker='o', color='red', legend=True)\n",
    "fit2.fittedvalues.plot(marker='o', color='red')\n",
    "\n",
    "fit3 = SimpleExpSmoothing(data1_week).fit()\n",
    "fcast3.plot(marker='o', color='green', legend=True)\n",
    "fit3.fittedvalues.plot(marker='o', color='green')\n",
    "\n",
    "obs.plot(marker='*', legend=True)"
   ]
  },
  {
   "cell_type": "markdown",
   "metadata": {},
   "source": [
    "## Holt Linear"
   ]
  },
  {
   "cell_type": "code",
   "execution_count": 212,
   "metadata": {
    "collapsed": true
   },
   "outputs": [],
   "source": [
    "#fit2 = Holt(init_set).fit(smoothing_level=0.5, smoothing_slope=0.5, optimized=False)\n",
    "fit2 = Holt(init_set).fit()\n",
    "fcast2 = fit2.forecast(226)"
   ]
  },
  {
   "cell_type": "code",
   "execution_count": 209,
   "metadata": {
    "collapsed": true
   },
   "outputs": [],
   "source": [
    "#for i in range(0,10):\n",
    "    #b = i/10\n",
    "    #c = 1-b\n",
    "    #fit2 = Holt(init_set).fit(smoothing_level= b, smoothing_slope= c, optimized=False)\n",
    "    #print(i)\n",
    "    #print(MSE(obs_init,fit2.fittedvalues))"
   ]
  },
  {
   "cell_type": "code",
   "execution_count": 213,
   "metadata": {},
   "outputs": [
    {
     "data": {
      "text/plain": [
       "{'smoothing_level': 1.8864179244266058e-09,\n",
       " 'smoothing_slope': 0.0,\n",
       " 'smoothing_seasonal': nan,\n",
       " 'damping_slope': nan,\n",
       " 'initial_level': 290.4616998713255,\n",
       " 'initial_slope': 0.019546827041174098,\n",
       " 'initial_seasons': array([], dtype=float64),\n",
       " 'use_boxcox': False,\n",
       " 'lamda': None,\n",
       " 'remove_bias': False}"
      ]
     },
     "execution_count": 213,
     "metadata": {},
     "output_type": "execute_result"
    }
   ],
   "source": [
    "fit2.params"
   ]
  },
  {
   "cell_type": "code",
   "execution_count": 214,
   "metadata": {},
   "outputs": [
    {
     "data": {
      "text/plain": [
       "33524.82543185039"
      ]
     },
     "execution_count": 214,
     "metadata": {},
     "output_type": "execute_result"
    }
   ],
   "source": [
    "MSE(obs_init,fit2.fittedvalues)"
   ]
  },
  {
   "cell_type": "code",
   "execution_count": 215,
   "metadata": {},
   "outputs": [
    {
     "data": {
      "text/plain": [
       "39723.31849052882"
      ]
     },
     "execution_count": 215,
     "metadata": {},
     "output_type": "execute_result"
    }
   ],
   "source": [
    "MSE(obs_test,fcast2)"
   ]
  },
  {
   "cell_type": "code",
   "execution_count": 96,
   "metadata": {},
   "outputs": [
    {
     "data": {
      "text/plain": [
       "<matplotlib.axes._subplots.AxesSubplot at 0x104edf98>"
      ]
     },
     "execution_count": 96,
     "metadata": {},
     "output_type": "execute_result"
    },
    {
     "data": {
      "image/png": "[encoded data removed]",
      "text/plain": [
       "<Figure size 720x360 with 1 Axes>"
      ]
     },
     "metadata": {},
     "output_type": "display_data"
    }
   ],
   "source": [
    "plt.figure(figsize=(10,5))\n",
    "fit3 = Holt(data1_week).fit(smoothing_level=0.8, smoothing_slope=0.2, optimized=False)\n",
    "fcast3 = fit3.forecast(7).rename(\"Holt's linear trend\")\n",
    "\n",
    "fit3.fittedvalues.plot(marker=\"o\", color='blue')\n",
    "fcast3.plot(legend=True)\n",
    "obs.plot(marker='*',legend=True)"
   ]
  },
  {
   "cell_type": "markdown",
   "metadata": {},
   "source": [
    "## Holt Winters"
   ]
  },
  {
   "cell_type": "code",
   "execution_count": 243,
   "metadata": {
    "collapsed": true
   },
   "outputs": [],
   "source": [
    "#fit3 = ExponentialSmoothing(init_set, seasonal_periods=4, trend='add', seasonal='add').fit(use_boxcox=True)\n",
    "fit3 = ExponentialSmoothing(init_set).fit()\n",
    "fcast3 = fit3.forecast(226)"
   ]
  },
  {
   "cell_type": "code",
   "execution_count": 244,
   "metadata": {},
   "outputs": [
    {
     "data": {
      "text/plain": [
       "33533.168996845445"
      ]
     },
     "execution_count": 244,
     "metadata": {},
     "output_type": "execute_result"
    }
   ],
   "source": [
    "MSE(obs_init,fit3.fittedvalues)"
   ]
  },
  {
   "cell_type": "code",
   "execution_count": 245,
   "metadata": {},
   "outputs": [
    {
     "data": {
      "text/plain": [
       "40026.622683318375"
      ]
     },
     "execution_count": 245,
     "metadata": {},
     "output_type": "execute_result"
    }
   ],
   "source": [
    "MSE(obs_test,fcast3)"
   ]
  },
  {
   "cell_type": "code",
   "execution_count": 154,
   "metadata": {},
   "outputs": [
    {
     "data": {
      "image/png": "[encoded data removed]",
      "text/plain": [
       "<Figure size 432x288 with 1 Axes>"
      ]
     },
     "metadata": {},
     "output_type": "display_data"
    },
    {
     "name": "stdout",
     "output_type": "stream",
     "text": [
      "Forecasting sales of properties using Holt-Winters method with both additive and multiplicative seasonality.\n"
     ]
    }
   ],
   "source": [
    "train_set.dropna(inplace=True)\n",
    "fit1 = ExponentialSmoothing(init_set, seasonal_periods=4, trend='add', seasonal='add').fit(use_boxcox=True)\n",
    "#fit2 = ExponentialSmoothing(train_set, seasonal_periods=4, trend='add', seasonal='mul').fit(use_boxcox=True)\n",
    "#fit3 = ExponentialSmoothing(train_set, seasonal_periods=4, trend='add', seasonal='add', damped=True).fit(use_boxcox=True)\n",
    "#fit4 = ExponentialSmoothing(train_set, seasonal_periods=4, trend='add', seasonal='mul', damped=True).fit(use_boxcox=True)\n",
    "fit1.fittedvalues.plot(style='--', color='red')\n",
    "#fit2.fittedvalues.plot(style='--', color='green')\n",
    "\n",
    "#fit1.forecast(12).plot(style='--', marker='o', color='red', legend=True)\n",
    "#fit2.forecast(12).plot(style='--', marker='o', color='green', legend=True)\n",
    "obs.plot()\n",
    "plt.show()\n",
    "print(\"Forecasting sales of properties using Holt-Winters method with both additive and multiplicative seasonality.\")\n"
   ]
  },
  {
   "cell_type": "markdown",
   "metadata": {},
   "source": [
    "# Regression"
   ]
  },
  {
   "cell_type": "markdown",
   "metadata": {},
   "source": [
    "## Buit some time features"
   ]
  },
  {
   "cell_type": "code",
   "execution_count": 247,
   "metadata": {
    "collapsed": true
   },
   "outputs": [],
   "source": [
    "data.loc[:,'dow'] = data['Date'].apply(lambda x:x.dayofweek)\n",
    "data.loc[:,'dom'] = data['Date'].apply(lambda x:x.day)\n",
    "data.loc[:,'month'] = data['Date'].apply(lambda x:x.month)\n",
    "data.loc[:,'year'] = data['Date'].apply(lambda x:x.year)"
   ]
  },
  {
   "cell_type": "code",
   "execution_count": 248,
   "metadata": {},
   "outputs": [
    {
     "data": {
      "text/html": [
       "<div>\n",
       "<style scoped>\n",
       "    .dataframe tbody tr th:only-of-type {\n",
       "        vertical-align: middle;\n",
       "    }\n",
       "\n",
       "    .dataframe tbody tr th {\n",
       "        vertical-align: top;\n",
       "    }\n",
       "\n",
       "    .dataframe thead th {\n",
       "        text-align: right;\n",
       "    }\n",
       "</style>\n",
       "<table border=\"1\" class=\"dataframe\">\n",
       "  <thead>\n",
       "    <tr style=\"text-align: right;\">\n",
       "      <th></th>\n",
       "      <th>Date</th>\n",
       "      <th>Number</th>\n",
       "      <th>dow</th>\n",
       "      <th>dom</th>\n",
       "      <th>month</th>\n",
       "      <th>year</th>\n",
       "    </tr>\n",
       "  </thead>\n",
       "  <tbody>\n",
       "    <tr>\n",
       "      <th>0</th>\n",
       "      <td>2017-01-01</td>\n",
       "      <td>636.0</td>\n",
       "      <td>6</td>\n",
       "      <td>1</td>\n",
       "      <td>1</td>\n",
       "      <td>2017</td>\n",
       "    </tr>\n",
       "    <tr>\n",
       "      <th>1</th>\n",
       "      <td>2017-01-02</td>\n",
       "      <td>232.0</td>\n",
       "      <td>0</td>\n",
       "      <td>2</td>\n",
       "      <td>1</td>\n",
       "      <td>2017</td>\n",
       "    </tr>\n",
       "    <tr>\n",
       "      <th>2</th>\n",
       "      <td>2017-01-03</td>\n",
       "      <td>856.0</td>\n",
       "      <td>1</td>\n",
       "      <td>3</td>\n",
       "      <td>1</td>\n",
       "      <td>2017</td>\n",
       "    </tr>\n",
       "    <tr>\n",
       "      <th>3</th>\n",
       "      <td>2017-01-04</td>\n",
       "      <td>663.0</td>\n",
       "      <td>2</td>\n",
       "      <td>4</td>\n",
       "      <td>1</td>\n",
       "      <td>2017</td>\n",
       "    </tr>\n",
       "    <tr>\n",
       "      <th>4</th>\n",
       "      <td>2017-01-05</td>\n",
       "      <td>488.0</td>\n",
       "      <td>3</td>\n",
       "      <td>5</td>\n",
       "      <td>1</td>\n",
       "      <td>2017</td>\n",
       "    </tr>\n",
       "  </tbody>\n",
       "</table>\n",
       "</div>"
      ],
      "text/plain": [
       "        Date  Number  dow  dom  month  year\n",
       "0 2017-01-01   636.0    6    1      1  2017\n",
       "1 2017-01-02   232.0    0    2      1  2017\n",
       "2 2017-01-03   856.0    1    3      1  2017\n",
       "3 2017-01-04   663.0    2    4      1  2017\n",
       "4 2017-01-05   488.0    3    5      1  2017"
      ]
     },
     "execution_count": 248,
     "metadata": {},
     "output_type": "execute_result"
    }
   ],
   "source": [
    "data.head()"
   ]
  },
  {
   "cell_type": "markdown",
   "metadata": {},
   "source": [
    "## add the weekend as a feature"
   ]
  },
  {
   "cell_type": "code",
   "execution_count": 249,
   "metadata": {},
   "outputs": [
    {
     "data": {
      "text/html": [
       "<div>\n",
       "<style scoped>\n",
       "    .dataframe tbody tr th:only-of-type {\n",
       "        vertical-align: middle;\n",
       "    }\n",
       "\n",
       "    .dataframe tbody tr th {\n",
       "        vertical-align: top;\n",
       "    }\n",
       "\n",
       "    .dataframe thead th {\n",
       "        text-align: right;\n",
       "    }\n",
       "</style>\n",
       "<table border=\"1\" class=\"dataframe\">\n",
       "  <thead>\n",
       "    <tr style=\"text-align: right;\">\n",
       "      <th></th>\n",
       "      <th>Date</th>\n",
       "      <th>Number</th>\n",
       "      <th>dow</th>\n",
       "      <th>dom</th>\n",
       "      <th>month</th>\n",
       "      <th>year</th>\n",
       "      <th>weekend</th>\n",
       "      <th>weekend_sat</th>\n",
       "      <th>weekend_sun</th>\n",
       "    </tr>\n",
       "  </thead>\n",
       "  <tbody>\n",
       "    <tr>\n",
       "      <th>0</th>\n",
       "      <td>2017-01-01</td>\n",
       "      <td>636.0</td>\n",
       "      <td>6</td>\n",
       "      <td>1</td>\n",
       "      <td>1</td>\n",
       "      <td>2017</td>\n",
       "      <td>1</td>\n",
       "      <td>0</td>\n",
       "      <td>1</td>\n",
       "    </tr>\n",
       "    <tr>\n",
       "      <th>1</th>\n",
       "      <td>2017-01-02</td>\n",
       "      <td>232.0</td>\n",
       "      <td>0</td>\n",
       "      <td>2</td>\n",
       "      <td>1</td>\n",
       "      <td>2017</td>\n",
       "      <td>0</td>\n",
       "      <td>0</td>\n",
       "      <td>0</td>\n",
       "    </tr>\n",
       "    <tr>\n",
       "      <th>2</th>\n",
       "      <td>2017-01-03</td>\n",
       "      <td>856.0</td>\n",
       "      <td>1</td>\n",
       "      <td>3</td>\n",
       "      <td>1</td>\n",
       "      <td>2017</td>\n",
       "      <td>0</td>\n",
       "      <td>0</td>\n",
       "      <td>0</td>\n",
       "    </tr>\n",
       "    <tr>\n",
       "      <th>3</th>\n",
       "      <td>2017-01-04</td>\n",
       "      <td>663.0</td>\n",
       "      <td>2</td>\n",
       "      <td>4</td>\n",
       "      <td>1</td>\n",
       "      <td>2017</td>\n",
       "      <td>0</td>\n",
       "      <td>0</td>\n",
       "      <td>0</td>\n",
       "    </tr>\n",
       "    <tr>\n",
       "      <th>4</th>\n",
       "      <td>2017-01-05</td>\n",
       "      <td>488.0</td>\n",
       "      <td>3</td>\n",
       "      <td>5</td>\n",
       "      <td>1</td>\n",
       "      <td>2017</td>\n",
       "      <td>0</td>\n",
       "      <td>0</td>\n",
       "      <td>0</td>\n",
       "    </tr>\n",
       "  </tbody>\n",
       "</table>\n",
       "</div>"
      ],
      "text/plain": [
       "        Date  Number  dow  dom  month  year  weekend  weekend_sat  weekend_sun\n",
       "0 2017-01-01   636.0    6    1      1  2017        1            0            1\n",
       "1 2017-01-02   232.0    0    2      1  2017        0            0            0\n",
       "2 2017-01-03   856.0    1    3      1  2017        0            0            0\n",
       "3 2017-01-04   663.0    2    4      1  2017        0            0            0\n",
       "4 2017-01-05   488.0    3    5      1  2017        0            0            0"
      ]
     },
     "execution_count": 249,
     "metadata": {},
     "output_type": "execute_result"
    }
   ],
   "source": [
    "data.loc[:,'weekend'] = 0\n",
    "data.loc[:,'weekend_sat'] = 0\n",
    "data.loc[:,'weekend_sun'] = 0\n",
    "\n",
    "data.loc[(data['dow']>4),'weekend'] = 1\n",
    "data.loc[(data['dow']==5),'weekend_sat'] = 1\n",
    "data.loc[(data['dow']==6),'weekend_sun'] = 1\n",
    "\n",
    "data.head()"
   ]
  },
  {
   "cell_type": "code",
   "execution_count": 250,
   "metadata": {
    "collapsed": true
   },
   "outputs": [],
   "source": [
    "def week_of_month(day):\n",
    "    if day in range(1,8):\n",
    "        return 1\n",
    "    if day in range(8,15):\n",
    "        return 2\n",
    "    if day in range(15,22):\n",
    "        return 3\n",
    "    else:\n",
    "        return 4\n",
    "data.loc[:,'week_of_month'] = data['dom'].apply(lambda x:week_of_month(x))"
   ]
  },
  {
   "cell_type": "code",
   "execution_count": 251,
   "metadata": {},
   "outputs": [
    {
     "data": {
      "text/plain": [
       "Index(['Date', 'Number', 'dow', 'dom', 'month', 'year', 'weekend',\n",
       "       'weekend_sat', 'weekend_sun', 'week_of_month'],\n",
       "      dtype='object')"
      ]
     },
     "execution_count": 251,
     "metadata": {},
     "output_type": "execute_result"
    }
   ],
   "source": [
    "data.columns"
   ]
  },
  {
   "cell_type": "code",
   "execution_count": 252,
   "metadata": {
    "collapsed": true
   },
   "outputs": [],
   "source": [
    "var_to_encoding = ['dow', 'dom', 'month', 'year','week_of_month']"
   ]
  },
  {
   "cell_type": "code",
   "execution_count": 253,
   "metadata": {
    "collapsed": true
   },
   "outputs": [],
   "source": [
    "dummy_data = pd.get_dummies(data, columns=var_to_encoding)"
   ]
  },
  {
   "cell_type": "code",
   "execution_count": 254,
   "metadata": {},
   "outputs": [
    {
     "data": {
      "text/html": [
       "<div>\n",
       "<style scoped>\n",
       "    .dataframe tbody tr th:only-of-type {\n",
       "        vertical-align: middle;\n",
       "    }\n",
       "\n",
       "    .dataframe tbody tr th {\n",
       "        vertical-align: top;\n",
       "    }\n",
       "\n",
       "    .dataframe thead th {\n",
       "        text-align: right;\n",
       "    }\n",
       "</style>\n",
       "<table border=\"1\" class=\"dataframe\">\n",
       "  <thead>\n",
       "    <tr style=\"text-align: right;\">\n",
       "      <th></th>\n",
       "      <th>Date</th>\n",
       "      <th>Number</th>\n",
       "      <th>weekend</th>\n",
       "      <th>weekend_sat</th>\n",
       "      <th>weekend_sun</th>\n",
       "      <th>dow_0</th>\n",
       "      <th>dow_1</th>\n",
       "      <th>dow_2</th>\n",
       "      <th>dow_3</th>\n",
       "      <th>dow_4</th>\n",
       "      <th>...</th>\n",
       "      <th>month_10</th>\n",
       "      <th>month_11</th>\n",
       "      <th>month_12</th>\n",
       "      <th>year_2017</th>\n",
       "      <th>year_2018</th>\n",
       "      <th>year_2019</th>\n",
       "      <th>week_of_month_1</th>\n",
       "      <th>week_of_month_2</th>\n",
       "      <th>week_of_month_3</th>\n",
       "      <th>week_of_month_4</th>\n",
       "    </tr>\n",
       "  </thead>\n",
       "  <tbody>\n",
       "    <tr>\n",
       "      <th>0</th>\n",
       "      <td>2017-01-01</td>\n",
       "      <td>636.0</td>\n",
       "      <td>1</td>\n",
       "      <td>0</td>\n",
       "      <td>1</td>\n",
       "      <td>0</td>\n",
       "      <td>0</td>\n",
       "      <td>0</td>\n",
       "      <td>0</td>\n",
       "      <td>0</td>\n",
       "      <td>...</td>\n",
       "      <td>0</td>\n",
       "      <td>0</td>\n",
       "      <td>0</td>\n",
       "      <td>1</td>\n",
       "      <td>0</td>\n",
       "      <td>0</td>\n",
       "      <td>1</td>\n",
       "      <td>0</td>\n",
       "      <td>0</td>\n",
       "      <td>0</td>\n",
       "    </tr>\n",
       "    <tr>\n",
       "      <th>1</th>\n",
       "      <td>2017-01-02</td>\n",
       "      <td>232.0</td>\n",
       "      <td>0</td>\n",
       "      <td>0</td>\n",
       "      <td>0</td>\n",
       "      <td>1</td>\n",
       "      <td>0</td>\n",
       "      <td>0</td>\n",
       "      <td>0</td>\n",
       "      <td>0</td>\n",
       "      <td>...</td>\n",
       "      <td>0</td>\n",
       "      <td>0</td>\n",
       "      <td>0</td>\n",
       "      <td>1</td>\n",
       "      <td>0</td>\n",
       "      <td>0</td>\n",
       "      <td>1</td>\n",
       "      <td>0</td>\n",
       "      <td>0</td>\n",
       "      <td>0</td>\n",
       "    </tr>\n",
       "    <tr>\n",
       "      <th>2</th>\n",
       "      <td>2017-01-03</td>\n",
       "      <td>856.0</td>\n",
       "      <td>0</td>\n",
       "      <td>0</td>\n",
       "      <td>0</td>\n",
       "      <td>0</td>\n",
       "      <td>1</td>\n",
       "      <td>0</td>\n",
       "      <td>0</td>\n",
       "      <td>0</td>\n",
       "      <td>...</td>\n",
       "      <td>0</td>\n",
       "      <td>0</td>\n",
       "      <td>0</td>\n",
       "      <td>1</td>\n",
       "      <td>0</td>\n",
       "      <td>0</td>\n",
       "      <td>1</td>\n",
       "      <td>0</td>\n",
       "      <td>0</td>\n",
       "      <td>0</td>\n",
       "    </tr>\n",
       "    <tr>\n",
       "      <th>3</th>\n",
       "      <td>2017-01-04</td>\n",
       "      <td>663.0</td>\n",
       "      <td>0</td>\n",
       "      <td>0</td>\n",
       "      <td>0</td>\n",
       "      <td>0</td>\n",
       "      <td>0</td>\n",
       "      <td>1</td>\n",
       "      <td>0</td>\n",
       "      <td>0</td>\n",
       "      <td>...</td>\n",
       "      <td>0</td>\n",
       "      <td>0</td>\n",
       "      <td>0</td>\n",
       "      <td>1</td>\n",
       "      <td>0</td>\n",
       "      <td>0</td>\n",
       "      <td>1</td>\n",
       "      <td>0</td>\n",
       "      <td>0</td>\n",
       "      <td>0</td>\n",
       "    </tr>\n",
       "    <tr>\n",
       "      <th>4</th>\n",
       "      <td>2017-01-05</td>\n",
       "      <td>488.0</td>\n",
       "      <td>0</td>\n",
       "      <td>0</td>\n",
       "      <td>0</td>\n",
       "      <td>0</td>\n",
       "      <td>0</td>\n",
       "      <td>0</td>\n",
       "      <td>1</td>\n",
       "      <td>0</td>\n",
       "      <td>...</td>\n",
       "      <td>0</td>\n",
       "      <td>0</td>\n",
       "      <td>0</td>\n",
       "      <td>1</td>\n",
       "      <td>0</td>\n",
       "      <td>0</td>\n",
       "      <td>1</td>\n",
       "      <td>0</td>\n",
       "      <td>0</td>\n",
       "      <td>0</td>\n",
       "    </tr>\n",
       "  </tbody>\n",
       "</table>\n",
       "<p>5 rows × 62 columns</p>\n",
       "</div>"
      ],
      "text/plain": [
       "        Date  Number  weekend  weekend_sat  weekend_sun  dow_0  dow_1  dow_2  \\\n",
       "0 2017-01-01   636.0        1            0            1      0      0      0   \n",
       "1 2017-01-02   232.0        0            0            0      1      0      0   \n",
       "2 2017-01-03   856.0        0            0            0      0      1      0   \n",
       "3 2017-01-04   663.0        0            0            0      0      0      1   \n",
       "4 2017-01-05   488.0        0            0            0      0      0      0   \n",
       "\n",
       "   dow_3  dow_4       ...         month_10  month_11  month_12  year_2017  \\\n",
       "0      0      0       ...                0         0         0          1   \n",
       "1      0      0       ...                0         0         0          1   \n",
       "2      0      0       ...                0         0         0          1   \n",
       "3      0      0       ...                0         0         0          1   \n",
       "4      1      0       ...                0         0         0          1   \n",
       "\n",
       "   year_2018  year_2019  week_of_month_1  week_of_month_2  week_of_month_3  \\\n",
       "0          0          0                1                0                0   \n",
       "1          0          0                1                0                0   \n",
       "2          0          0                1                0                0   \n",
       "3          0          0                1                0                0   \n",
       "4          0          0                1                0                0   \n",
       "\n",
       "   week_of_month_4  \n",
       "0                0  \n",
       "1                0  \n",
       "2                0  \n",
       "3                0  \n",
       "4                0  \n",
       "\n",
       "[5 rows x 62 columns]"
      ]
     },
     "execution_count": 254,
     "metadata": {},
     "output_type": "execute_result"
    }
   ],
   "source": [
    "dummy_data.head()"
   ]
  },
  {
   "cell_type": "code",
   "execution_count": 442,
   "metadata": {
    "collapsed": true
   },
   "outputs": [],
   "source": [
    "predict_set = dummy_data[dummy_data.Date>='2019-01-05']\n",
    "train1_set = dummy_data[dummy_data.Date<'2019-01-05']\n",
    "init1_set = train1_set[train1_set.index < 513]\n",
    "test1_set = train1_set[train1_set.index > 513]"
   ]
  },
  {
   "cell_type": "code",
   "execution_count": 70,
   "metadata": {
    "collapsed": true
   },
   "outputs": [],
   "source": [
    "from sklearn.linear_model import LinearRegression"
   ]
  },
  {
   "cell_type": "code",
   "execution_count": 452,
   "metadata": {
    "collapsed": true
   },
   "outputs": [],
   "source": [
    "drop_columns = ['Date','Number']\n",
    "init_X = init_set.drop(drop_columns,axis=1)\n",
    "test_X = test_set.drop(drop_columns,axis=1)\n",
    "init_y = init_set['Number']\n",
    "test_y = test_set['Number']\n",
    "predict_X = predict_set.drop(drop_columns,axis=1)"
   ]
  },
  {
   "cell_type": "code",
   "execution_count": 258,
   "metadata": {
    "collapsed": true
   },
   "outputs": [],
   "source": [
    "from sklearn.linear_model import RidgeCV"
   ]
  },
  {
   "cell_type": "code",
   "execution_count": 444,
   "metadata": {},
   "outputs": [
    {
     "data": {
      "text/plain": [
       "RidgeCV(alphas=[0.2, 0.5, 0.8], cv=5, fit_intercept=True, gcv_mode=None,\n",
       "    normalize=False, scoring=None, store_cv_values=False)"
      ]
     },
     "execution_count": 444,
     "metadata": {},
     "output_type": "execute_result"
    }
   ],
   "source": [
    "linear_reg = RidgeCV(alphas=[0.2,0.5,0.8], cv=5)\n",
    "linear_reg.fit(init_X,init_y)"
   ]
  },
  {
   "cell_type": "code",
   "execution_count": 445,
   "metadata": {
    "collapsed": true
   },
   "outputs": [],
   "source": [
    "test_pred = linear_reg.predict(test_X)\n",
    "init_pred = linear_reg.predict(init_X)"
   ]
  },
  {
   "cell_type": "code",
   "execution_count": 446,
   "metadata": {},
   "outputs": [
    {
     "data": {
      "text/plain": [
       "6740.0423793242935"
      ]
     },
     "execution_count": 446,
     "metadata": {},
     "output_type": "execute_result"
    }
   ],
   "source": [
    "MSE(init_y,init_pred)"
   ]
  },
  {
   "cell_type": "code",
   "execution_count": 447,
   "metadata": {},
   "outputs": [
    {
     "data": {
      "text/plain": [
       "7793.957774450574"
      ]
     },
     "execution_count": 447,
     "metadata": {},
     "output_type": "execute_result"
    }
   ],
   "source": [
    "MSE(test_y,test_pred)"
   ]
  },
  {
   "cell_type": "code",
   "execution_count": 448,
   "metadata": {},
   "outputs": [
    {
     "data": {
      "text/plain": [
       "0.801017690815979"
      ]
     },
     "execution_count": 448,
     "metadata": {},
     "output_type": "execute_result"
    }
   ],
   "source": [
    "linear_reg.score(init_X, init_y)"
   ]
  },
  {
   "cell_type": "code",
   "execution_count": 449,
   "metadata": {},
   "outputs": [
    {
     "data": {
      "text/plain": [
       "0.8011278031973551"
      ]
     },
     "execution_count": 449,
     "metadata": {},
     "output_type": "execute_result"
    }
   ],
   "source": [
    "linear_reg.score(test_X, test_y)"
   ]
  },
  {
   "cell_type": "code",
   "execution_count": 453,
   "metadata": {
    "collapsed": true
   },
   "outputs": [],
   "source": [
    "predictions_lr = linear_reg.predict(predict_X)"
   ]
  },
  {
   "cell_type": "code",
   "execution_count": 455,
   "metadata": {},
   "outputs": [
    {
     "name": "stdout",
     "output_type": "stream",
     "text": [
      "[245.21394333 174.69862809 176.13547901 170.94076587 197.70593036\n",
      " 560.13827634 500.71545874]\n"
     ]
    }
   ],
   "source": [
    "print(predictions_lr)"
   ]
  },
  {
   "cell_type": "code",
   "execution_count": null,
   "metadata": {
    "collapsed": true
   },
   "outputs": [],
   "source": []
  },
  {
   "cell_type": "markdown",
   "metadata": {},
   "source": [
    "# ARIMA"
   ]
  },
  {
   "cell_type": "code",
   "execution_count": 295,
   "metadata": {},
   "outputs": [
    {
     "data": {
      "image/png": "[encoded data removed]",
      "text/plain": [
       "<Figure size 432x288 with 1 Axes>"
      ]
     },
     "metadata": {},
     "output_type": "display_data"
    }
   ],
   "source": [
    "data_diff = train_set.diff()\n",
    "data_diff = data_diff.dropna()\n",
    "\n",
    "plt.figure()\n",
    "plt.plot(data_diff)\n",
    "plt.title('first order diff')\n",
    "plt.show()"
   ]
  },
  {
   "cell_type": "code",
   "execution_count": 296,
   "metadata": {},
   "outputs": [
    {
     "data": {
      "image/png": "[encoded data removed]",
      "text/plain": [
       "<Figure size 432x288 with 1 Axes>"
      ]
     },
     "metadata": {},
     "output_type": "display_data"
    }
   ],
   "source": [
    "pacf = plot_pacf(data_diff, lags=20)\n",
    "plt.title(\"PACF\")\n",
    "pacf.show()"
   ]
  },
  {
   "cell_type": "code",
   "execution_count": 297,
   "metadata": {},
   "outputs": [
    {
     "data": {
      "image/png": "[encoded data removed]",
      "text/plain": [
       "<Figure size 432x288 with 1 Axes>"
      ]
     },
     "metadata": {},
     "output_type": "display_data"
    }
   ],
   "source": [
    "acf = plot_acf(data_diff, lags=20)\n",
    "plt.title(\"ACF\")\n",
    "acf.show()"
   ]
  },
  {
   "cell_type": "markdown",
   "metadata": {},
   "source": [
    "## Choose the optimal parameters for ARIMA"
   ]
  },
  {
   "cell_type": "code",
   "execution_count": 394,
   "metadata": {
    "collapsed": true
   },
   "outputs": [],
   "source": [
    "import numpy as np\n",
    "import itertools\n",
    "\n",
    "p_min = 6\n",
    "d_min = 1\n",
    "q_min = 1\n",
    "p_max = 10\n",
    "d_max = 1\n",
    "q_max = 5\n",
    "\n",
    "# Initialize a DataFrame to store the results\n",
    "results_bic = pd.DataFrame(index=['AR{}'.format(i) for i in range(p_min,p_max+1)],\n",
    "                           columns=['MA{}'.format(i) for i in range(q_min,q_max+1)])\n",
    "\n",
    "for p,d,q in itertools.product(range(p_min,p_max+1),\n",
    "                               range(d_min,d_max+1),\n",
    "                               range(q_min,q_max+1)):\n",
    "    if p==0 and d==0 and q==0:\n",
    "        results_bic.loc['AR{}'.format(p), 'MA{}'.format(q)] = np.nan\n",
    "        continue\n",
    "    \n",
    "    try:\n",
    "        model = ARIMA(init_set, order=(p, d, q),\n",
    "                               #enforce_stationarity=False,\n",
    "                               #enforce_invertibility=False,\n",
    "                              )\n",
    "        results = model.fit()\n",
    "        results_bic.loc['AR{}'.format(p), 'MA{}'.format(q)] = results.bic\n",
    "    except:\n",
    "        continue\n",
    "results_bic = results_bic[results_bic.columns].astype(float)"
   ]
  },
  {
   "cell_type": "code",
   "execution_count": 395,
   "metadata": {},
   "outputs": [
    {
     "data": {
      "text/html": [
       "<div>\n",
       "<style scoped>\n",
       "    .dataframe tbody tr th:only-of-type {\n",
       "        vertical-align: middle;\n",
       "    }\n",
       "\n",
       "    .dataframe tbody tr th {\n",
       "        vertical-align: top;\n",
       "    }\n",
       "\n",
       "    .dataframe thead th {\n",
       "        text-align: right;\n",
       "    }\n",
       "</style>\n",
       "<table border=\"1\" class=\"dataframe\">\n",
       "  <thead>\n",
       "    <tr style=\"text-align: right;\">\n",
       "      <th></th>\n",
       "      <th>MA1</th>\n",
       "      <th>MA2</th>\n",
       "      <th>MA3</th>\n",
       "      <th>MA4</th>\n",
       "      <th>MA5</th>\n",
       "    </tr>\n",
       "  </thead>\n",
       "  <tbody>\n",
       "    <tr>\n",
       "      <th>AR6</th>\n",
       "      <td>6169.860962</td>\n",
       "      <td>6155.858069</td>\n",
       "      <td>6153.400236</td>\n",
       "      <td>6150.129311</td>\n",
       "      <td>6123.836398</td>\n",
       "    </tr>\n",
       "    <tr>\n",
       "      <th>AR7</th>\n",
       "      <td>6164.195550</td>\n",
       "      <td>6155.724703</td>\n",
       "      <td>6151.417034</td>\n",
       "      <td>6147.186077</td>\n",
       "      <td>6116.800111</td>\n",
       "    </tr>\n",
       "    <tr>\n",
       "      <th>AR8</th>\n",
       "      <td>6162.587758</td>\n",
       "      <td>6121.431109</td>\n",
       "      <td>6127.429208</td>\n",
       "      <td>6126.475223</td>\n",
       "      <td>6103.459396</td>\n",
       "    </tr>\n",
       "    <tr>\n",
       "      <th>AR9</th>\n",
       "      <td>6158.869997</td>\n",
       "      <td>6127.471895</td>\n",
       "      <td>6132.694395</td>\n",
       "      <td>6118.959489</td>\n",
       "      <td>6091.503352</td>\n",
       "    </tr>\n",
       "    <tr>\n",
       "      <th>AR10</th>\n",
       "      <td>6130.608917</td>\n",
       "      <td>6140.607690</td>\n",
       "      <td>6127.279929</td>\n",
       "      <td>6096.280531</td>\n",
       "      <td>6095.170632</td>\n",
       "    </tr>\n",
       "  </tbody>\n",
       "</table>\n",
       "</div>"
      ],
      "text/plain": [
       "              MA1          MA2          MA3          MA4          MA5\n",
       "AR6   6169.860962  6155.858069  6153.400236  6150.129311  6123.836398\n",
       "AR7   6164.195550  6155.724703  6151.417034  6147.186077  6116.800111\n",
       "AR8   6162.587758  6121.431109  6127.429208  6126.475223  6103.459396\n",
       "AR9   6158.869997  6127.471895  6132.694395  6118.959489  6091.503352\n",
       "AR10  6130.608917  6140.607690  6127.279929  6096.280531  6095.170632"
      ]
     },
     "execution_count": 395,
     "metadata": {},
     "output_type": "execute_result"
    }
   ],
   "source": [
    "results_bic"
   ]
  },
  {
   "cell_type": "code",
   "execution_count": 396,
   "metadata": {},
   "outputs": [
    {
     "data": {
      "image/png": "[encoded data removed]",
      "text/plain": [
       "<Figure size 720x576 with 2 Axes>"
      ]
     },
     "metadata": {},
     "output_type": "display_data"
    }
   ],
   "source": [
    "fig, ax = plt.subplots(figsize=(10, 8))\n",
    "ax = sns.heatmap(results_bic,\n",
    "                 mask=results_bic.isnull(),\n",
    "                 ax=ax,\n",
    "                 annot=True,\n",
    "                 fmt='.2f',\n",
    "                 );\n",
    "ax.set_title('BIC');"
   ]
  },
  {
   "cell_type": "markdown",
   "metadata": {},
   "source": [
    "* From the plot, we can see when p = 8, q = 5, ARIMA will get the best result"
   ]
  },
  {
   "cell_type": "code",
   "execution_count": 397,
   "metadata": {
    "collapsed": true
   },
   "outputs": [],
   "source": [
    "model = ARIMA(init_set, order=(10, 1, 5),freq='D')"
   ]
  },
  {
   "cell_type": "code",
   "execution_count": 398,
   "metadata": {},
   "outputs": [
    {
     "name": "stdout",
     "output_type": "stream",
     "text": [
      "                             ARIMA Model Results                              \n",
      "==============================================================================\n",
      "Dep. Variable:               D.Number   No. Observations:                  507\n",
      "Model:                ARIMA(10, 1, 5)   Log Likelihood               -2994.643\n",
      "Method:                       css-mle   S.D. of innovations             87.550\n",
      "Date:                Mon, 25 Mar 2019   AIC                           6023.286\n",
      "Time:                        16:30:37   BIC                           6095.171\n",
      "Sample:                    01-02-2017   HQIC                          6051.477\n",
      "                         - 05-23-2018                                         \n",
      "===================================================================================\n",
      "                      coef    std err          z      P>|z|      [0.025      0.975]\n",
      "-----------------------------------------------------------------------------------\n",
      "const              -0.4237      1.211     -0.350      0.727      -2.798       1.950\n",
      "ar.L1.D.Number     -0.4831        nan        nan        nan         nan         nan\n",
      "ar.L2.D.Number     -1.3310        nan        nan        nan         nan         nan\n",
      "ar.L3.D.Number     -0.9060        nan        nan        nan         nan         nan\n",
      "ar.L4.D.Number     -1.3478        nan        nan        nan         nan         nan\n",
      "ar.L5.D.Number     -1.3918        nan        nan        nan         nan         nan\n",
      "ar.L6.D.Number     -1.1679        nan        nan        nan         nan         nan\n",
      "ar.L7.D.Number     -0.5287      0.004   -125.061      0.000      -0.537      -0.520\n",
      "ar.L8.D.Number     -0.6202      0.010    -60.071      0.000      -0.640      -0.600\n",
      "ar.L9.D.Number     -0.1768      0.006    -30.721      0.000      -0.188      -0.165\n",
      "ar.L10.D.Number    -0.2974        nan        nan        nan         nan         nan\n",
      "ma.L1.D.Number     -0.2296      0.038     -6.050      0.000      -0.304      -0.155\n",
      "ma.L2.D.Number      0.9709      0.025     39.550      0.000       0.923       1.019\n",
      "ma.L3.D.Number      0.0542      0.052      1.039      0.299      -0.048       0.157\n",
      "ma.L4.D.Number      0.5269      0.033     15.775      0.000       0.461       0.592\n",
      "ma.L5.D.Number      0.5489      0.035     15.581      0.000       0.480       0.618\n",
      "                                    Roots                                     \n",
      "==============================================================================\n",
      "                   Real          Imaginary           Modulus         Frequency\n",
      "------------------------------------------------------------------------------\n",
      "AR.1            -1.0183           -0.4633j            1.1188           -0.4320\n",
      "AR.2            -1.0183           +0.4633j            1.1188            0.4320\n",
      "AR.3             0.6237           -0.7817j            1.0000           -0.1428\n",
      "AR.4             0.6237           +0.7817j            1.0000            0.1428\n",
      "AR.5             0.7862           -1.0364j            1.3009           -0.1467\n",
      "AR.6             0.7862           +1.0364j            1.3009            0.1467\n",
      "AR.7            -0.2223           -0.9756j            1.0006           -0.2857\n",
      "AR.8            -0.2223           +0.9756j            1.0006            0.2857\n",
      "AR.9            -0.4664           -1.1696j            1.2591           -0.3104\n",
      "AR.10           -0.4664           +1.1696j            1.2591            0.3104\n",
      "MA.1             0.6196           -0.7881j            1.0025           -0.1440\n",
      "MA.2             0.6196           +0.7881j            1.0025            0.1440\n",
      "MA.3            -0.2238           -0.9924j            1.0173           -0.2853\n",
      "MA.4            -0.2238           +0.9924j            1.0173            0.2853\n",
      "MA.5            -1.7515           -0.0000j            1.7515           -0.5000\n",
      "------------------------------------------------------------------------------\n"
     ]
    }
   ],
   "source": [
    "result = model.fit()\n",
    "print(result.summary())"
   ]
  },
  {
   "cell_type": "code",
   "execution_count": 416,
   "metadata": {
    "collapsed": true
   },
   "outputs": [],
   "source": [
    "#init_pred = result.predict('20170101','20180523',dynamic=True, typ='levels')\n",
    "init_pred = result.predict('20180524','20190104',dynamic=True, typ='levels')"
   ]
  },
  {
   "cell_type": "code",
   "execution_count": 432,
   "metadata": {
    "collapsed": true
   },
   "outputs": [],
   "source": [
    "pred = result.predict('20180524','20190111',dynamic=True, typ='levels')"
   ]
  },
  {
   "cell_type": "code",
   "execution_count": null,
   "metadata": {
    "collapsed": true
   },
   "outputs": [],
   "source": [
    "train"
   ]
  },
  {
   "cell_type": "code",
   "execution_count": 433,
   "metadata": {
    "collapsed": true
   },
   "outputs": [],
   "source": [
    "a = obs_init.to_frame()\n",
    "b = a.iloc[1:,::]"
   ]
  },
  {
   "cell_type": "code",
   "execution_count": 402,
   "metadata": {},
   "outputs": [
    {
     "data": {
      "text/plain": [
       "127255.67018111084"
      ]
     },
     "execution_count": 402,
     "metadata": {},
     "output_type": "execute_result"
    }
   ],
   "source": [
    "MSE(b.values,result.fittedvalues)"
   ]
  },
  {
   "cell_type": "code",
   "execution_count": 403,
   "metadata": {},
   "outputs": [
    {
     "data": {
      "text/plain": [
       "16794.708336468684"
      ]
     },
     "execution_count": 403,
     "metadata": {},
     "output_type": "execute_result"
    }
   ],
   "source": [
    "MSE(obs_test,init_pred)"
   ]
  },
  {
   "cell_type": "code",
   "execution_count": 435,
   "metadata": {},
   "outputs": [
    {
     "name": "stdout",
     "output_type": "stream",
     "text": [
      "2019-01-05    193.391033\n",
      "2019-01-06     79.241298\n",
      "2019-01-07     99.358641\n",
      "2019-01-08     34.300112\n",
      "2019-01-09    119.882695\n",
      "2019-01-10    411.988560\n",
      "2019-01-11    449.919874\n",
      "Freq: D, dtype: float64\n"
     ]
    }
   ],
   "source": [
    "prediction_arima = pred.tail(7)\n",
    "print(prediction_arima)"
   ]
  },
  {
   "cell_type": "code",
   "execution_count": null,
   "metadata": {
    "collapsed": true
   },
   "outputs": [],
   "source": []
  }
 ],
 "metadata": {
  "kernelspec": {
   "display_name": "Python 3",
   "language": "python",
   "name": "python3"
  },
  "language_info": {
   "codemirror_mode": {
    "name": "ipython",
    "version": 3
   },
   "file_extension": ".py",
   "mimetype": "text/x-python",
   "name": "python",
   "nbconvert_exporter": "python",
   "pygments_lexer": "ipython3",
   "version": "3.5.2"
  }
 },
 "nbformat": 4,
 "nbformat_minor": 2
}
