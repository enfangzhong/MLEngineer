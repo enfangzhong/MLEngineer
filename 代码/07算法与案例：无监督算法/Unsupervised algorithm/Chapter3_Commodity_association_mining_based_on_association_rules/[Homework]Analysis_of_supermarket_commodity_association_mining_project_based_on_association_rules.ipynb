{
 "cells": [
  {
   "cell_type": "markdown",
   "metadata": {},
   "source": [
    "![](http://pic1.tsingdataedu.com/ML%E6%A1%88%E4%BE%8Bbanner.jpg)"
   ]
  },
  {
   "cell_type": "markdown",
   "metadata": {},
   "source": [
    "## 作业 基于关联规则的商品关联挖掘\n",
    "作者： 寒小阳，助教-Andrei"
   ]
  },
  {
   "cell_type": "markdown",
   "metadata": {},
   "source": [
    "## 作业说明\n",
    "本次的作业一共有5个任务\n",
    "* 任务一：构造 item2id，id2item\n",
    "* 任务二：编写函数items2int(items, num_items) ，用于通过交易数据得到编码 \n",
    "* 任务三：编写is_subset方法，用于判断 sx 是否为 sy 的subset\n",
    "* 任务四：编写support方法，用于计算s在整个transactions中的support\n",
    "* 任务五：利用Apriori算法（使用BFS来实现）来获取频繁集\n"
   ]
  },
  {
   "cell_type": "code",
   "execution_count": 1,
   "metadata": {
    "collapsed": true
   },
   "outputs": [],
   "source": [
    "# 请不要修改此单元格.\n",
    "import time\n",
    "\n",
    "# 如下是此次作业需要用到的交易数据\n",
    "transactions = [[\"milk\", \"bread\"], \n",
    "                [\"butter\"], \n",
    "                [\"beer\", \"diapers\"],\n",
    "                [\"milk\", \"bread\", \"butter\"],\n",
    "                [\"bread\"]\n",
    "               ]"
   ]
  },
  {
   "cell_type": "code",
   "execution_count": 2,
   "metadata": {},
   "outputs": [
    {
     "name": "stdout",
     "output_type": "stream",
     "text": [
      "Mapping from items to ids: {}\n",
      "Mapping from ids to items: []\n"
     ]
    }
   ],
   "source": [
    "# 步骤1： 数据预处理\n",
    "items = set([t for transaction in transactions for t in transaction ])\n",
    "num_items = len(items)\n",
    "\n",
    "# 任务一: 由你来构造 item2id，id2item\n",
    "# 请构造item2id，存放每一个item及其id（i.e. {'butter': 0, 'beer': 1, 'bread': 2, 'milk': 3, 'diapers': 4}）\n",
    "item2id =  # YOUR CODE HERE \n",
    "\n",
    "\n",
    "# 请构造id2item, 存放每一个item (i.e. ['butter', 'beer', 'bread', 'milk', 'diapers'])\n",
    "id2item = # YOUR CODE HERE \n",
    "\n",
    "\n",
    "print(\"Mapping from items to ids:\", item2id)\n",
    "print(\"Mapping from ids to items:\", id2item)"
   ]
  },
  {
   "cell_type": "code",
   "execution_count": 4,
   "metadata": {},
   "outputs": [],
   "source": [
    "# 请不要修改此单元格\n",
    "# 步骤2: 定义编码交易数据的两个函数 int2items(s, num_items)，items2int(items, num_items)\n",
    "# Tips: 通过编码返回subset （i.e., 9 = 01001 = {diapers, butter}.）\n",
    "\n",
    "def int2items(s, num_items):\n",
    "    items = []\n",
    "    for i in range(num_items):\n",
    "        if s % 2: items.append(id2item[i])\n",
    "        s >>= 1\n",
    "    return items\n",
    "\n",
    "print(\"Itemset 9 =\", int2items(9, num_items))\n",
    "print(\"Itemset 31= \", int2items(31, num_items))\n",
    "print(\"Itemset 0=\", int2items(0, num_items))\n",
    "print(\"Itemset 4=\", int2items(4, num_items))"
   ]
  },
  {
   "cell_type": "code",
   "execution_count": 18,
   "metadata": {},
   "outputs": [
    {
     "name": "stdout",
     "output_type": "stream",
     "text": [
      "Items ['milk', 'butter'] = 0\n",
      "All transactions in integer representation: [0, 0, 0, 0, 0]\n"
     ]
    }
   ],
   "source": [
    "# 任务二：由你来编写函数items2int(items, num_items) 通过交易数据得到编码\n",
    "# Tips： i.e. items2int([\"milk\", \"butter\"], num_items) 返回 ”01100“ 即 ”12“\n",
    "\n",
    "def items2int(items, num_items):\n",
    "    idx = 0\n",
    "    # START CODE HERE\n",
    "    \n",
    "    return idx\n",
    "\n",
    "print(\"Items ['milk', 'butter'] =\", items2int([\"milk\", \"butter\"], num_items))\n",
    "\n",
    "# 打印所有交易数据的编码\n",
    "int_trans = [items2int(t, num_items) for t in transactions]\n",
    "print(\"All transactions in integer representation:\", int_trans)"
   ]
  },
  {
   "cell_type": "code",
   "execution_count": 19,
   "metadata": {
    "collapsed": true
   },
   "outputs": [],
   "source": [
    "# 步骤3：定义两个帮助方法is_subset 和 support 方法\n",
    "# 任务三：由你来编写is_subset方法，用于判断 sx 是否为 sy 的subset\n",
    "def is_subset(sx, sy):\n",
    "    # START CODE HERE\n",
    "    \n",
    "    return True"
   ]
  },
  {
   "cell_type": "code",
   "execution_count": 20,
   "metadata": {
    "collapsed": true
   },
   "outputs": [],
   "source": [
    "# 任务4：由你来编写support方法，用于计算s在整个transactions中的support\n",
    "# Tips: 1，有可能用到is_subset方法 \n",
    "#       2，要记得 support 是物品集在所有Transactions中出现的频率\n",
    "def support(s, transactions):\n",
    "    # START CODE HERE\n",
    "    \n",
    "    return # YOUR CODE HERE"
   ]
  },
  {
   "cell_type": "code",
   "execution_count": 22,
   "metadata": {
    "collapsed": true
   },
   "outputs": [],
   "source": [
    "# 请不要修改此单元格\n",
    "# 步骤4：建模从而获取频繁集\n",
    "# 方法一：直接计算法  \n",
    "# 复杂度: O(2^n).\n",
    "\n",
    "sup = 0.3\n",
    "num_transactions = len(transactions)\n",
    "freq_sets = []\n",
    "start_time = time.time()\n",
    "for i in range(1, 2 ** num_items):\n",
    "    subsets = int2items(i, num_items)\n",
    "    counter = 0\n",
    "    freq = support(subsets, transactions)\n",
    "    if freq > sup: freq_sets.append(subsets)\n",
    "end_time = time.time()\n",
    "print(\"All frequent subsets:\", freq_sets)\n",
    "print(\"Time used for mining:\", end_time - start_time, \"seconds.\")"
   ]
  },
  {
   "cell_type": "code",
   "execution_count": 10,
   "metadata": {},
   "outputs": [
    {
     "name": "stdout",
     "output_type": "stream",
     "text": [
      "All frequent subsets: []\n",
      "Time used for mining: 0.0 seconds.\n"
     ]
    }
   ],
   "source": [
    "# 任务五： 利用Apriori算法（使用BFS来实现）来获取频繁集\n",
    "# 复杂度： O(2^n)\n",
    "sup = 0.3\n",
    "freq_sets = []\n",
    "searched = set()\n",
    "queue = []\n",
    "head, tail = 0, 0\n",
    "queue.append([])\n",
    "searched.add(0)\n",
    "tail += 1\n",
    "start_time = time.time()\n",
    "while head < tail:\n",
    "    top = queue[head]\n",
    "    head += 1\n",
    "    for t in items:\n",
    "        # START CODE HERE\n",
    "        \n",
    "        pass\n",
    "    pass\n",
    "end_time = time.time()\n",
    "print(\"All frequent subsets:\", freq_sets)\n",
    "print(\"Time used for mining:\", end_time - start_time, \"seconds.\")"
   ]
  },
  {
   "cell_type": "markdown",
   "metadata": {},
   "source": [
    "作者：寒小阳、助教Andrei\n",
    "\n",
    "本文档版权归稀牛学院所有"
   ]
  },
  {
   "cell_type": "markdown",
   "metadata": {},
   "source": [
    "\n",
    "![](http://osloyi5le.bkt.clouddn.com/%E7%A8%80%E7%89%9B%20x%20%E7%BD%91%E6%98%93.png)"
   ]
  },
  {
   "cell_type": "markdown",
   "metadata": {},
   "source": [
    "### 版权归 © 稀牛学院 所有 保留所有权利"
   ]
  },
  {
   "cell_type": "markdown",
   "metadata": {},
   "source": [
    "![](http://pic1.tsingdataedu.com/%E7%A8%80%E7%89%9B%20x%20%E7%BD%91%E6%98%93.png)"
   ]
  }
 ],
 "metadata": {
  "anaconda-cloud": {},
  "kernelspec": {
   "display_name": "Python 3",
   "language": "python",
   "name": "python3"
  },
  "language_info": {
   "codemirror_mode": {
    "name": "ipython",
    "version": 3
   },
   "file_extension": ".py",
   "mimetype": "text/x-python",
   "name": "python",
   "nbconvert_exporter": "python",
   "pygments_lexer": "ipython3",
   "version": "3.6.4"
  }
 },
 "nbformat": 4,
 "nbformat_minor": 2
}
