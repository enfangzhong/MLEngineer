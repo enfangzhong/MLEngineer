{
 "cells": [
  {
   "cell_type": "markdown",
   "metadata": {},
   "source": [
    "![](http://pic1.tsingdataedu.com/%E6%9C%BA%E5%99%A8%E5%AD%A6%E4%B9%A0%E5%B7%A5%E7%A8%8B%E5%B8%88banner.png)"
   ]
  },
  {
   "cell_type": "markdown",
   "metadata": {},
   "source": [
    "# XGBoost与LightGBM实战技能水平检测（下）\n",
    "作者：寒小阳，助教-Andrei"
   ]
  },
  {
   "cell_type": "markdown",
   "metadata": {},
   "source": [
    "## 作业说明"
   ]
  },
  {
   "cell_type": "markdown",
   "metadata": {},
   "source": [
    "本次的作业一共有4个任务\n",
    "\n",
    "* 任务一：LightGBM建模，sklearn评估\n",
    "* 任务二：配合scikit-learn的网格搜索交叉验证选择最优超参数\n",
    "* 任务三：从0建模\n",
    "* 任务四：画出各类图表 分析你建立的模型"
   ]
  },
  {
   "cell_type": "markdown",
   "metadata": {},
   "source": [
    "#### 知识点1.读取csv数据并指定参数建模\n",
    "你可以在[LightGBM操作手册](https://lightgbm.readthedocs.io/en/latest/)找到更多详细信息"
   ]
  },
  {
   "cell_type": "code",
   "execution_count": null,
   "metadata": {},
   "outputs": [],
   "source": [
    "# 请不要修改此单元格.\n",
    "# 请参考下方LightGBM使用案例\n",
    "\n",
    "# coding: utf-8\n",
    "import json\n",
    "import lightgbm as lgb\n",
    "import pandas as pd\n",
    "from sklearn.metrics import mean_squared_error\n",
    "\n",
    "\n",
    "# 加载数据集合\n",
    "print('Load data...')\n",
    "df_train = pd.read_csv('./data/regression.train.txt', header=None, sep='\\t')\n",
    "df_test = pd.read_csv('./data/regression.test.txt', header=None, sep='\\t')\n",
    "\n",
    "# 设定训练集和测试集\n",
    "y_train = df_train[0].values\n",
    "y_test = df_test[0].values\n",
    "X_train = df_train.drop(0, axis=1).values\n",
    "X_test = df_test.drop(0, axis=1).values\n",
    "\n",
    "# 构建lgb中的Dataset格式\n",
    "lgb_train = lgb.Dataset(X_train, y_train)\n",
    "lgb_eval = lgb.Dataset(X_test, y_test, reference=lgb_train)\n",
    "\n",
    "# 敲定好一组参数\n",
    "params = {\n",
    "    'task': 'train',\n",
    "    'boosting_type': 'gbdt',\n",
    "    'objective': 'regression',\n",
    "    'metric': {'l2', 'auc'},\n",
    "    'num_leaves': 31,\n",
    "    'learning_rate': 0.05,\n",
    "    'feature_fraction': 0.9,\n",
    "    'bagging_fraction': 0.8,\n",
    "    'bagging_freq': 5,\n",
    "    'verbose': 0\n",
    "}\n",
    "\n",
    "print('开始训练...')\n",
    "# 训练\n",
    "gbm = lgb.train(params,\n",
    "                lgb_train,\n",
    "                num_boost_round=20,\n",
    "                valid_sets=lgb_eval,\n",
    "                early_stopping_rounds=5)\n",
    "\n",
    "# 保存模型\n",
    "print('保存模型...')\n",
    "# 保存模型到文件中\n",
    "gbm.save_model('model.txt')\n",
    "\n",
    "print('开始预测...')\n",
    "# 预测\n",
    "y_pred = gbm.predict(X_test, num_iteration=gbm.best_iteration)\n",
    "# 评估\n",
    "print('预估结果的rmse为:')\n",
    "print(mean_squared_error(y_test, y_pred) ** 0.5)"
   ]
  },
  {
   "cell_type": "markdown",
   "metadata": {},
   "source": [
    "#### 知识点2.添加样本权重训练"
   ]
  },
  {
   "cell_type": "code",
   "execution_count": null,
   "metadata": {},
   "outputs": [],
   "source": [
    "# 请不要修改此单元格.\n",
    "\n",
    "# coding: utf-8\n",
    "import json\n",
    "import lightgbm as lgb\n",
    "import pandas as pd\n",
    "import numpy as np\n",
    "from sklearn.metrics import mean_squared_error\n",
    "import warnings\n",
    "warnings.filterwarnings(\"ignore\")\n",
    "\n",
    "# 加载数据集\n",
    "print('加载数据...')\n",
    "df_train = pd.read_csv('./data/binary.train', header=None, sep='\\t')\n",
    "df_test = pd.read_csv('./data/binary.test', header=None, sep='\\t')\n",
    "W_train = pd.read_csv('./data/binary.train.weight', header=None)[0]\n",
    "W_test = pd.read_csv('./data/binary.test.weight', header=None)[0]\n",
    "\n",
    "y_train = df_train[0].values\n",
    "y_test = df_test[0].values\n",
    "X_train = df_train.drop(0, axis=1).values\n",
    "X_test = df_test.drop(0, axis=1).values\n",
    "\n",
    "num_train, num_feature = X_train.shape\n",
    "\n",
    "# 加载数据的同时加载权重\n",
    "lgb_train = lgb.Dataset(X_train, y_train,\n",
    "                        weight=W_train, free_raw_data=False)\n",
    "lgb_eval = lgb.Dataset(X_test, y_test, reference=lgb_train,\n",
    "                       weight=W_test, free_raw_data=False)\n",
    "\n",
    "# 设定参数\n",
    "params = {\n",
    "    'boosting_type': 'gbdt',\n",
    "    'objective': 'binary',\n",
    "    'metric': 'binary_logloss',\n",
    "    'num_leaves': 31,\n",
    "    'learning_rate': 0.05,\n",
    "    'feature_fraction': 0.9,\n",
    "    'bagging_fraction': 0.8,\n",
    "    'bagging_freq': 5,\n",
    "    'verbose': 0\n",
    "}\n",
    "\n",
    "# 产出特征名称\n",
    "feature_name = ['feature_' + str(col) for col in range(num_feature)]\n",
    "\n",
    "print('开始训练...')\n",
    "gbm = lgb.train(params,\n",
    "                lgb_train,\n",
    "                num_boost_round=10,\n",
    "                valid_sets=lgb_train,  # 评估训练集\n",
    "                feature_name=feature_name,\n",
    "                categorical_feature=[21])"
   ]
  },
  {
   "cell_type": "markdown",
   "metadata": {},
   "source": [
    "#### 知识点3.模型的载入与预测"
   ]
  },
  {
   "cell_type": "code",
   "execution_count": null,
   "metadata": {},
   "outputs": [],
   "source": [
    "# 请不要修改此单元格.\n",
    "\n",
    "# 查看特征名称\n",
    "print('完成10轮训练...')\n",
    "print('第7个特征为:')\n",
    "print(repr(lgb_train.feature_name[6]))\n",
    "\n",
    "# 存储模型\n",
    "gbm.save_model('./model/lgb_model.txt')\n",
    "\n",
    "# 特征名称\n",
    "print('特征名称:')\n",
    "print(gbm.feature_name())\n",
    "\n",
    "# 特征重要度\n",
    "print('特征重要度:')\n",
    "print(list(gbm.feature_importance()))\n",
    "\n",
    "# 加载模型\n",
    "print('加载模型用于预测')\n",
    "bst = lgb.Booster(model_file='./model/lgb_model.txt')\n",
    "# 预测\n",
    "y_pred = bst.predict(X_test)\n",
    "# 在测试集评估效果\n",
    "print('在测试集上的rmse为:')\n",
    "print(mean_squared_error(y_test, y_pred) ** 0.5)"
   ]
  },
  {
   "cell_type": "markdown",
   "metadata": {},
   "source": [
    "#### 知识点4.接着之前的模型继续训练"
   ]
  },
  {
   "cell_type": "code",
   "execution_count": null,
   "metadata": {},
   "outputs": [],
   "source": [
    "# 请不要修改此单元格.\n",
    "# 继续训练\n",
    "# 从./model/model.txt中加载模型初始化\n",
    "gbm = lgb.train(params,\n",
    "                lgb_train,\n",
    "                num_boost_round=10,\n",
    "                init_model='./model/lgb_model.txt',\n",
    "                valid_sets=lgb_eval)\n",
    "\n",
    "print('以旧模型为初始化，完成第 10-20 轮训练...')\n",
    "\n",
    "# 在训练的过程中调整超参数\n",
    "# 比如这里调整的是学习率\n",
    "gbm = lgb.train(params,\n",
    "                lgb_train,\n",
    "                num_boost_round=10,\n",
    "                init_model=gbm,\n",
    "                learning_rates=lambda iter: 0.05 * (0.99 ** iter),\n",
    "                valid_sets=lgb_eval)\n",
    "\n",
    "print('逐步调整学习率完成第 20-30 轮训练...')\n",
    "\n",
    "# 调整其他超参数\n",
    "gbm = lgb.train(params,\n",
    "                lgb_train,\n",
    "                num_boost_round=10,\n",
    "                init_model=gbm,\n",
    "                valid_sets=lgb_eval,\n",
    "                callbacks=[lgb.reset_parameter(bagging_fraction=[0.7] * 5 + [0.6] * 5)])\n",
    "\n",
    "print('逐步调整bagging比率完成第 30-40 轮训练...')"
   ]
  },
  {
   "cell_type": "markdown",
   "metadata": {
    "collapsed": true
   },
   "source": [
    "#### 知识点5.自定义损失函数"
   ]
  },
  {
   "cell_type": "code",
   "execution_count": null,
   "metadata": {},
   "outputs": [],
   "source": [
    "# 请自由修改此单元格并尝试\n",
    "\n",
    "# 类似在xgboost中的形式\n",
    "# 自定义损失函数需要\n",
    "def loglikelood(preds, train_data):\n",
    "    labels = train_data.get_label()\n",
    "    preds = 1. / (1. + np.exp(-preds))\n",
    "    grad = preds - labels\n",
    "    hess = preds * (1. - preds)\n",
    "    return grad, hess\n",
    "\n",
    "\n",
    "# 自定义评估函数\n",
    "def binary_error(preds, train_data):\n",
    "    labels = train_data.get_label()\n",
    "    return 'error', np.mean(labels != (preds > 0.5)), False\n",
    "\n",
    "\n",
    "gbm = lgb.train(params,\n",
    "                lgb_train,\n",
    "                num_boost_round=10,\n",
    "                init_model=gbm,\n",
    "                fobj=loglikelood,\n",
    "                feval=binary_error,\n",
    "                valid_sets=lgb_eval)\n",
    "\n",
    "print('用自定义的损失函数与评估标准完成第40-50轮...')"
   ]
  },
  {
   "cell_type": "markdown",
   "metadata": {},
   "source": [
    "### sklearn与LightGBM配合使用\n",
    "知识点 6.LightGBM建模，sklearn评估"
   ]
  },
  {
   "cell_type": "code",
   "execution_count": null,
   "metadata": {},
   "outputs": [],
   "source": [
    "#任务一： LightGBM建模，sklearn评估\n",
    "\n",
    "# coding: utf-8\n",
    "import lightgbm as lgb\n",
    "import pandas as pd\n",
    "from sklearn.metrics import mean_squared_error\n",
    "from sklearn.model_selection import GridSearchCV\n",
    "\n",
    "# 加载数据\n",
    "print('加载数据...')\n",
    "df_train = pd.read_csv('./data/regression.train.txt', header=None, sep='\\t')\n",
    "df_test = pd.read_csv('./data/regression.test.txt', header=None, sep='\\t')\n",
    "\n",
    "# 取出特征和标签\n",
    "y_train = # START CODE HERE\n",
    "y_test = # START CODE HERE\n",
    "X_train = # START CODE HERE\n",
    "X_test = # START CODE HERE\n",
    "\n",
    "print('开始训练...')\n",
    "# 提示：直接初始化LGBMRegressor\n",
    "# 提示：这个LightGBM的Regressor和sklearn中其他Regressor基本是一致的\n",
    "gbm = lgb.LGBMRegressor(# START CODE HERE)\n",
    "\n",
    "# 使用fit函数拟合\n",
    "gbm.fit(# START CODE HERE)\n",
    "\n",
    "# 预测\n",
    "print('开始预测...')\n",
    "y_pred = gbm.predict(# START CODE HERE)\n",
    "# 评估预测结果\n",
    "print('预测结果的rmse是:')\n",
    "print(mean_squared_error(y_test, y_pred) ** 0.5)"
   ]
  },
  {
   "cell_type": "markdown",
   "metadata": {},
   "source": [
    "#### 知识点7.网格搜索查找最优超参数"
   ]
  },
  {
   "cell_type": "code",
   "execution_count": null,
   "metadata": {},
   "outputs": [],
   "source": [
    "# 任务2 配合scikit-learn的网格搜索交叉验证选择最优超参数\n",
    "estimator = lgb.LGBMRegressor(# START CODE HERE)\n",
    "\n",
    "param_grid = {\n",
    "    'learning_rate': [# START CODE HERE],\n",
    "    'n_estimators': [# START CODE HERE]}\n",
    "\n",
    "gbm = GridSearchCV(estimator, param_grid)\n",
    "\n",
    "gbm.fit(X_train, y_train)\n",
    "\n",
    "print('用网格搜索找到的最优超参数为:')\n",
    "print(gbm.best_params_)"
   ]
  },
  {
   "cell_type": "markdown",
   "metadata": {},
   "source": [
    "#### 知识点8. 项目建模与绘图解释"
   ]
  },
  {
   "cell_type": "code",
   "execution_count": null,
   "metadata": {
    "scrolled": false
   },
   "outputs": [],
   "source": [
    "# coding: utf-8\n",
    "import lightgbm as lgb\n",
    "import pandas as pd\n",
    "try:\n",
    "    import matplotlib.pyplot as plt\n",
    "except ImportError:\n",
    "    raise ImportError('You need to install matplotlib for plotting.')\n",
    "    \n",
    "#任务3 从0建模\n",
    "# 加载数据集\n",
    "print('加载数据...')\n",
    "df_train = pd.read_csv('./data/regression.train.txt', header=None, sep='\\t')\n",
    "df_test = pd.read_csv('./data/regression.test.txt', header=None, sep='\\t')\n",
    "\n",
    "# 步骤一：取出特征和标签\n",
    "\n",
    "# START CODE HERE\n",
    "\n",
    "# 步骤二：构建lgb中的Dataset数据格式\n",
    "\n",
    "# START CODE HERE\n",
    "\n",
    "# 步骤三：设定参数\n",
    "\n",
    "# START CODE HERE\n",
    "\n",
    "evals_result = {}  \n",
    "\n",
    "print('开始训练...')\n",
    "# 步骤四：训练\n",
    "# START CODE HERE\n"
   ]
  },
  {
   "cell_type": "code",
   "execution_count": null,
   "metadata": {
    "collapsed": true
   },
   "outputs": [],
   "source": [
    "# 任务4 画出各类图表 分析你建立的模型\n",
    "# 提示 你可能会用到如下方法来进行绘图：lgb.plot_metric，lgb.plot_importance，lgb.plot_tree\n",
    "\n",
    "print('在训练过程中绘图...')\n",
    "ax = # START CODE HERE\n",
    "plt.show()\n",
    "\n",
    "print('画出特征重要度...')\n",
    "ax = # START CODE HERE\n",
    "plt.show()\n",
    "\n",
    "print('画出第n颗树...')\n",
    "ax = # START CODE HERE\n",
    "plt.show()"
   ]
  },
  {
   "cell_type": "markdown",
   "metadata": {},
   "source": [
    "作者：寒小阳、助教Andrei\n",
    "\n",
    "本文档版权归稀牛学院所有"
   ]
  },
  {
   "cell_type": "markdown",
   "metadata": {},
   "source": [
    "![](http://pic1.tsingdataedu.com/%E7%A8%80%E7%89%9B%20x%20%E7%BD%91%E6%98%93.png)"
   ]
  }
 ],
 "metadata": {
  "kernelspec": {
   "display_name": "Python 3",
   "language": "python",
   "name": "python3"
  },
  "language_info": {
   "codemirror_mode": {
    "name": "ipython",
    "version": 3
   },
   "file_extension": ".py",
   "mimetype": "text/x-python",
   "name": "python",
   "nbconvert_exporter": "python",
   "pygments_lexer": "ipython3",
   "version": "3.6.4"
  }
 },
 "nbformat": 4,
 "nbformat_minor": 2
}
