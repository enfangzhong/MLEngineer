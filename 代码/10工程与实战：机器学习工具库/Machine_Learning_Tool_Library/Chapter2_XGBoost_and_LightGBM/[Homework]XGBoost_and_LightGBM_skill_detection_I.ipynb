{
 "cells": [
  {
   "cell_type": "markdown",
   "metadata": {},
   "source": [
    "![](http://pic1.tsingdataedu.com/%E6%9C%BA%E5%99%A8%E5%AD%A6%E4%B9%A0%E5%B7%A5%E7%A8%8B%E5%B8%88banner.png)"
   ]
  },
  {
   "cell_type": "markdown",
   "metadata": {},
   "source": [
    "# XGBoost与LightGBM实战技能水平检测\n",
    "作者 寒小阳，助教-Andrei"
   ]
  },
  {
   "cell_type": "markdown",
   "metadata": {},
   "source": [
    "## 作业说明"
   ]
  },
  {
   "cell_type": "markdown",
   "metadata": {},
   "source": [
    "###### 本次的作业一共有6个任务\n",
    "\n",
    "* 任务一：用xgboost做二分类实践\n",
    "* 任务二：使用xgboost的sklearn包 XGBClassifier 建模\n",
    "* 任务三：计算正负样本比，调整样本权重，编写fpreproc函数\n",
    "* 任务四：自定义损失函数 logregobj \n",
    "* 任务五：自定义评估准则函数 evalerror\n",
    "* 任务六：绘画特征重要度的柱形图"
   ]
  },
  {
   "cell_type": "markdown",
   "metadata": {},
   "source": [
    "#### 知识点1.读取libsvm格式数据并指定参数建模\n",
    "你可以在[XGBOOST操作手册](https://xgboost.readthedocs.io/en/latest/)找到更多详细信息"
   ]
  },
  {
   "cell_type": "code",
   "execution_count": null,
   "metadata": {
    "collapsed": true
   },
   "outputs": [],
   "source": [
    "# 请不要修改此单元格.\n",
    "\n",
    "# 请参考下方xgboost使用案例\n",
    "#!/usr/bin/python\n",
    "import numpy as np\n",
    "import scipy.sparse\n",
    "import pickle\n",
    "import xgboost as xgb\n",
    "\n",
    "# 步骤 1：基本例子，从libsvm文件中读取数据，做二分类\n",
    "# 数据是libsvm的格式\n",
    "#1 3:1 10:1 11:1 21:1 30:1 34:1 36:1 40:1 41:1 53:1 58:1 65:1 69:1 77:1 86:1 88:1 92:1 95:1 102:1 105:1 117:1 124:1\n",
    "#0 3:1 10:1 20:1 21:1 23:1 34:1 36:1 39:1 41:1 53:1 56:1 65:1 69:1 77:1 86:1 88:1 92:1 95:1 102:1 106:1 116:1 120:1\n",
    "#0 1:1 10:1 19:1 21:1 24:1 34:1 36:1 39:1 42:1 53:1 56:1 65:1 69:1 77:1 86:1 88:1 92:1 95:1 102:1 106:1 116:1 122:1\n",
    "dtrain = xgb.DMatrix('./data/agaricus.txt.train')\n",
    "dtest = xgb.DMatrix('./data/agaricus.txt.test')\n",
    "\n",
    "#步骤 2：超参数设定\n",
    "param = {'max_depth':2, 'eta':1, 'silent':1, 'objective':'binary:logistic' }\n",
    "\n",
    "#步骤 3：设定watchlist用于查看模型状态\n",
    "watchlist  = [(dtest,'eval'), (dtrain,'train')]\n",
    "num_round = 2\n",
    "bst = xgb.train(param, dtrain, num_round, watchlist)\n",
    "\n",
    "#步骤 4：使用模型预测\n",
    "preds = bst.predict(dtest)\n",
    "\n",
    "# 步骤 5：判断准确率\n",
    "labels = dtest.get_label()\n",
    "print ('错误类为%f' % \\\n",
    "       (sum(1 for i in range(len(preds)) if int(preds[i]>0.5)!=labels[i]) /float(len(preds))))\n",
    "\n",
    "# 步骤 6：模型存储\n",
    "bst.save_model('./model/0001.model')"
   ]
  },
  {
   "cell_type": "markdown",
   "metadata": {},
   "source": [
    "#### 知识点2.配合pandas DataFrame格式数据建模"
   ]
  },
  {
   "cell_type": "code",
   "execution_count": null,
   "metadata": {
    "collapsed": true
   },
   "outputs": [],
   "source": [
    "# 请不要修改此单元格.\n",
    "\n",
    "# 运行此单元格来查看数据\n",
    "# 皮马印第安人糖尿病数据集包含很多字段：\n",
    "# 怀孕次数 口服葡萄糖耐量试验中血浆葡萄糖浓度 舒张压（mm Hg） 三头肌组织褶厚度（mm） \n",
    "# 2小时血清胰岛素（μU/ ml） 体重指数（kg/（身高(m)^2） 糖尿病系统功能 年龄（岁）\n",
    "import pandas as pd\n",
    "data = pd.read_csv('./data/Pima-Indians-Diabetes.csv')\n",
    "data.head()"
   ]
  },
  {
   "cell_type": "code",
   "execution_count": null,
   "metadata": {
    "collapsed": true
   },
   "outputs": [],
   "source": [
    "#!/usr/bin/python\n",
    "import numpy as np\n",
    "import pandas as pd\n",
    "import pickle\n",
    "import xgboost as xgb\n",
    "from sklearn.model_selection import train_test_split\n",
    "\n",
    "# 任务一： 用xgboost做二分类实践\n",
    "\n",
    "# 步骤1：用pandas读入数据\n",
    "data = # START CODE HERE\n",
    "\n",
    "# 步骤2: 利用train_test_split做数据切分\n",
    "train, test = # START CODE HERE\n",
    "\n",
    "# 步骤3： 转换成Dmatrix格式\n",
    "feature_columns = ['Pregnancies', 'Glucose', 'BloodPressure', 'SkinThickness', 'Insulin', 'BMI', 'DiabetesPedigreeFunction', 'Age']\n",
    "target_column = 'Outcome'\n",
    "xgtrain = xgb.DMatrix(# START CODE HERE)\n",
    "xgtest = xgb.DMatrix(# START CODE HERE)\n",
    "\n",
    "# 步骤4： 参数设定\n",
    "param = {# START CODE HERE }\n",
    "\n",
    "# 步骤5： 设定watchlist用于查看模型状态和训练\n",
    "watchlist  = [(xgtest,'eval'), (xgtrain,'train')]\n",
    "num_round = # START CODE HERE\n",
    "bst = xgb.train(# START CODE HERE)\n",
    "\n",
    "# 步骤6： 使用模型预测\n",
    "preds = bst.predict(xgtest)\n",
    "\n",
    "# 步骤7： 判断准确率\n",
    "labels = xgtest.get_label()\n",
    "print ('错误类为%f'\n",
    "       # START CODE HERE)\n",
    "\n",
    "# 步骤8： 模型存储\n",
    "bst.save_model('./model/0002.model')"
   ]
  },
  {
   "cell_type": "markdown",
   "metadata": {},
   "source": [
    "#### 知识点3.使用xgboost的sklearn包 XGBClassifier"
   ]
  },
  {
   "cell_type": "code",
   "execution_count": null,
   "metadata": {
    "collapsed": true
   },
   "outputs": [],
   "source": [
    "#!/usr/bin/python\n",
    "import warnings\n",
    "warnings.filterwarnings(\"ignore\")\n",
    "import numpy as np\n",
    "import pandas as pd\n",
    "import pickle\n",
    "import xgboost as xgb\n",
    "from sklearn.model_selection import train_test_split\n",
    "from sklearn.externals import joblib\n",
    "\n",
    "# 任务二： 使用xgboost的sklearn包 XGBClassifier 建模\n",
    "# 步骤1：用pandas读入数据\n",
    "data = pd.read_csv('./data/Pima-Indians-Diabetes.csv')\n",
    "\n",
    "# 步骤2：做数据切分 使用sklearn.model_selection的 train_test_split（） 方法\n",
    "train, test = # START CODE HERE\n",
    "\n",
    "# 步骤3：取出特征X和目标y的部分\n",
    "feature_columns = ['Pregnancies', 'Glucose', 'BloodPressure', 'SkinThickness', 'Insulin', 'BMI', 'DiabetesPedigreeFunction', 'Age']\n",
    "target_column = 'Outcome'\n",
    "train_X = # START CODE HERE\n",
    "train_y = # START CODE HERE\n",
    "test_X = # START CODE HERE\n",
    "test_y = # START CODE HERE\n",
    "\n",
    "# 步骤4： 初始化模型\n",
    "xgb_classifier = xgb.XGBClassifier(# START CODE HERE)\n",
    "\n",
    "# 步骤5： 拟合模型\n",
    "xgb_classifier.fit(# START CODE HERE)\n",
    "\n",
    "# 步骤5： 使用模型预测\n",
    "preds = xgb_classifier.predict(# START CODE HERE)\n",
    "\n",
    "# 步骤6： 判断错误率\n",
    "print ('错误率为%f' # START CODE HERE)\n",
    "\n",
    "# 步骤7： 模型存储\n",
    "joblib.dump(xgb_classifier, './model/0003.model')"
   ]
  },
  {
   "cell_type": "markdown",
   "metadata": {
    "collapsed": true
   },
   "source": [
    "#### 知识点4.交叉验证"
   ]
  },
  {
   "cell_type": "code",
   "execution_count": null,
   "metadata": {
    "collapsed": true
   },
   "outputs": [],
   "source": [
    "# 请不要修改此单元格.\n",
    "xgb.cv(param, dtrain, num_round, nfold=5,metrics={'error'}, seed = 0)"
   ]
  },
  {
   "cell_type": "markdown",
   "metadata": {},
   "source": [
    "#### 知识点5.添加预处理的交叉验证"
   ]
  },
  {
   "cell_type": "code",
   "execution_count": null,
   "metadata": {
    "collapsed": true
   },
   "outputs": [],
   "source": [
    "# 任务三：计算正负样本比，调整样本权重，补全fpreproc函数，提示: ratio = 负例个数/正例个数\n",
    "def fpreproc(dtrain, dtest, param):\n",
    "    label = dtrain.get_label()\n",
    "    ratio = # START CODE HERE\n",
    "    param['scale_pos_weight'] = ratio\n",
    "    return (dtrain, dtest, param)\n",
    "\n",
    "# 先做预处理，计算样本权重，再做交叉验证\n",
    "xgb.cv(param, dtrain, num_round, nfold=5,\n",
    "       metrics={'auc'}, seed = 0, fpreproc = fpreproc)"
   ]
  },
  {
   "cell_type": "markdown",
   "metadata": {},
   "source": [
    "#### 知识点6.自定义损失函数与评估准则"
   ]
  },
  {
   "cell_type": "code",
   "execution_count": null,
   "metadata": {
    "collapsed": true
   },
   "outputs": [],
   "source": [
    "print ('running cross validation, with cutomsized loss function')\n",
    "# 任务四： 自定义损失函数 logregobj ，需要返回损失函数的一阶导和二阶导\n",
    "def logregobj(preds, dtrain):\n",
    "    \n",
    "    # START CODE HERE\n",
    "    \n",
    "    return grad, hess\n",
    "\n",
    "# 任务五： 自定义评估准则函数 evalerror，需要返回预估值和标准答案之间的差距\n",
    "def evalerror(preds, dtrain):\n",
    "    \n",
    "    # START CODE HERE\n",
    "    \n",
    "    return None\n",
    "\n",
    "# 设置参数\n",
    "watchlist  = [(dtest,'eval'), (dtrain,'train')]\n",
    "\n",
    "param = { # START CODE HERE }\n",
    "num_round =  # START CODE HERE\n",
    "\n",
    "# 自定义损失函数训练\n",
    "bst = xgb.train( # START CODE HERE)\n",
    "\n",
    "# 交叉验证\n",
    "xgb.cv( # START CODE HERE)"
   ]
  },
  {
   "cell_type": "markdown",
   "metadata": {},
   "source": [
    "#### 知识点7.只用前n颗树预测"
   ]
  },
  {
   "cell_type": "code",
   "execution_count": null,
   "metadata": {
    "collapsed": true
   },
   "outputs": [],
   "source": [
    "# 请自由修改此单元格尝试\n",
    "\n",
    "#!/usr/bin/python\n",
    "import numpy as np\n",
    "import pandas as pd\n",
    "import pickle\n",
    "import xgboost as xgb\n",
    "from sklearn.model_selection import train_test_split\n",
    "\n",
    "# 基本例子，从csv文件中读取数据，做二分类\n",
    "\n",
    "# 用pandas读入数据\n",
    "data = pd.read_csv('./data/Pima-Indians-Diabetes.csv')\n",
    "\n",
    "# 做数据切分\n",
    "train, test = train_test_split(data)\n",
    "\n",
    "# 转换成Dmatrix格式\n",
    "feature_columns = ['Pregnancies', 'Glucose', 'BloodPressure', 'SkinThickness', 'Insulin', 'BMI', 'DiabetesPedigreeFunction', 'Age']\n",
    "target_column = 'Outcome'\n",
    "xgtrain = xgb.DMatrix(train[feature_columns].values, train[target_column].values)\n",
    "xgtest = xgb.DMatrix(test[feature_columns].values, test[target_column].values)\n",
    "\n",
    "#参数设定\n",
    "param = {'max_depth':5, 'eta':0.1, 'silent':1, 'subsample':0.7, 'colsample_bytree':0.7, 'objective':'binary:logistic' }\n",
    "\n",
    "# 设定watchlist用于查看模型状态\n",
    "watchlist  = [(xgtest,'eval'), (xgtrain,'train')]\n",
    "num_round = 10\n",
    "bst = xgb.train(param, xgtrain, num_round, watchlist)\n",
    "\n",
    "# 只用第1颗树预测\n",
    "ypred1 = bst.predict(xgtest, ntree_limit=1)\n",
    "# 用前9颗树预测\n",
    "ypred2 = bst.predict(xgtest, ntree_limit=9)\n",
    "label = xgtest.get_label()\n",
    "print ('用前1颗树预测的错误率为 %f' % (np.sum((ypred1>0.5)!=label) /float(len(label))))\n",
    "print ('用前9颗树预测的错误率为 %f' % (np.sum((ypred2>0.5)!=label) /float(len(label))))"
   ]
  },
  {
   "cell_type": "markdown",
   "metadata": {},
   "source": [
    "#### 知识点8 .Xgboost建模，sklearn评估"
   ]
  },
  {
   "cell_type": "code",
   "execution_count": null,
   "metadata": {
    "collapsed": true
   },
   "outputs": [],
   "source": [
    "# 请自由修改此单元格尝试\n",
    "\n",
    "import pickle\n",
    "import xgboost as xgb\n",
    "\n",
    "import numpy as np\n",
    "from sklearn.model_selection import KFold, train_test_split, GridSearchCV\n",
    "from sklearn.metrics import confusion_matrix, mean_squared_error\n",
    "from sklearn.datasets import load_iris, load_digits, load_boston\n",
    "\n",
    "rng = np.random.RandomState(31337)\n",
    "\n",
    "#二分类：混淆矩阵\n",
    "print(\"数字0和1的二分类问题\")\n",
    "digits = load_digits(2)\n",
    "y = digits['target']\n",
    "X = digits['data']\n",
    "kf = KFold(n_splits=2, shuffle=True, random_state=rng)\n",
    "print(\"在2折数据上的交叉验证\")\n",
    "for train_index, test_index in kf.split(X):\n",
    "    xgb_model = xgb.XGBClassifier().fit(X[train_index],y[train_index])\n",
    "    predictions = xgb_model.predict(X[test_index])\n",
    "    actuals = y[test_index]\n",
    "    print(\"混淆矩阵:\")\n",
    "    print(confusion_matrix(actuals, predictions))\n",
    "\n",
    "#多分类：混淆矩阵\n",
    "print(\"\\nIris: 多分类\")\n",
    "iris = load_iris()\n",
    "y = iris['target']\n",
    "X = iris['data']\n",
    "kf = KFold(n_splits=2, shuffle=True, random_state=rng)\n",
    "print(\"在2折数据上的交叉验证\")\n",
    "for train_index, test_index in kf.split(X):\n",
    "    xgb_model = xgb.XGBClassifier().fit(X[train_index],y[train_index])\n",
    "    predictions = xgb_model.predict(X[test_index])\n",
    "    actuals = y[test_index]\n",
    "    print(\"混淆矩阵:\")\n",
    "    print(confusion_matrix(actuals, predictions))\n",
    "\n",
    "#回归问题：MSE\n",
    "print(\"\\n波士顿房价回归预测问题\")\n",
    "boston = load_boston()\n",
    "y = boston['target']\n",
    "X = boston['data']\n",
    "kf = KFold(n_splits=2, shuffle=True, random_state=rng)\n",
    "print(\"在2折数据上的交叉验证\")\n",
    "for train_index, test_index in kf.split(X):\n",
    "    xgb_model = xgb.XGBRegressor().fit(X[train_index],y[train_index])\n",
    "    predictions = xgb_model.predict(X[test_index])\n",
    "    actuals = y[test_index]\n",
    "    print(\"MSE:\",mean_squared_error(actuals, predictions))"
   ]
  },
  {
   "cell_type": "markdown",
   "metadata": {},
   "source": [
    "#### 知识点9 网格搜索查找最优超参数"
   ]
  },
  {
   "cell_type": "code",
   "execution_count": null,
   "metadata": {
    "collapsed": true
   },
   "outputs": [],
   "source": [
    "# 请自由修改此单元格尝试 \n",
    "\n",
    "print(\"参数最优化：\")\n",
    "y = boston['target']\n",
    "X = boston['data']\n",
    "xgb_model = xgb.XGBRegressor()\n",
    "clf = GridSearchCV(xgb_model,\n",
    "                   {'max_depth': [2,4,6],\n",
    "                    'n_estimators': [50,100,200]}, verbose=1)\n",
    "clf.fit(X,y)\n",
    "print(clf.best_score_)\n",
    "print(clf.best_params_)"
   ]
  },
  {
   "cell_type": "markdown",
   "metadata": {},
   "source": [
    "#### 知识点10.early-stopping 早停"
   ]
  },
  {
   "cell_type": "code",
   "execution_count": null,
   "metadata": {
    "collapsed": true
   },
   "outputs": [],
   "source": [
    "# 请自由修改此单元格尝试\n",
    "\n",
    "# 在训练集上学习模型，一颗一颗树添加，在验证集上看效果，当验证集效果不再提升，停止树的添加与生长\n",
    "X = digits['data']\n",
    "y = digits['target']\n",
    "X_train, X_val, y_train, y_val = train_test_split(X, y, random_state=0)\n",
    "clf = xgb.XGBClassifier()\n",
    "clf.fit(X_train, y_train, early_stopping_rounds=10, eval_metric=\"auc\",\n",
    "        eval_set=[(X_val, y_val)])"
   ]
  },
  {
   "cell_type": "markdown",
   "metadata": {},
   "source": [
    "#### 知识点11 .特征重要度"
   ]
  },
  {
   "cell_type": "code",
   "execution_count": null,
   "metadata": {
    "collapsed": true
   },
   "outputs": [],
   "source": [
    "# 请自由修改此单元格尝试 \n",
    "\n",
    "iris = load_iris()\n",
    "y = iris['target']\n",
    "X = iris['data']\n",
    "xgb_model = xgb.XGBClassifier().fit(X,y)\n",
    "\n",
    "print('特征排序：')\n",
    "feature_names=['sepal_length', 'sepal_width', 'petal_length', 'petal_width']\n",
    "feature_importances = xgb_model.feature_importances_\n",
    "indices = np.argsort(feature_importances)[::-1]\n",
    "\n",
    "for index in indices:\n",
    "    print(\"特征 %s 重要度为 %f\" %(feature_names[index], feature_importances[index]))\n",
    "\n",
    "%matplotlib inline\n",
    "import matplotlib.pyplot as plt\n",
    "# 任务六： 绘画特征重要度的柱形图\n",
    "\n",
    "# START CODE HERE\n"
   ]
  },
  {
   "cell_type": "markdown",
   "metadata": {},
   "source": [
    "#### 知识点12 并行训练加速"
   ]
  },
  {
   "cell_type": "code",
   "execution_count": null,
   "metadata": {
    "collapsed": true
   },
   "outputs": [],
   "source": [
    "# 请自由修改此单元格尝试 \n",
    "import os\n",
    "\n",
    "if __name__ == \"__main__\":\n",
    "    try:\n",
    "        from multiprocessing import set_start_method\n",
    "    except ImportError:\n",
    "        raise ImportError(\"Unable to import multiprocessing.set_start_method.\"\n",
    "                          \" This example only runs on Python 3.4\")\n",
    "    set_start_method(\"forkserver\")\n",
    "\n",
    "    import numpy as np\n",
    "    from sklearn.model_selection import GridSearchCV\n",
    "    from sklearn.datasets import load_boston\n",
    "    import xgboost as xgb\n",
    "\n",
    "    rng = np.random.RandomState(31337)\n",
    "\n",
    "    print(\"Parallel Parameter optimization\")\n",
    "    boston = load_boston()\n",
    "\n",
    "    os.environ[\"OMP_NUM_THREADS\"] = \"2\"  # 请自由尝试\n",
    "    y = boston['target']\n",
    "    X = boston['data']\n",
    "    xgb_model = xgb.XGBRegressor()\n",
    "    clf = GridSearchCV(xgb_model, {'max_depth': [2, 4, 6],\n",
    "                                   'n_estimators': [50, 100, 200]}, verbose=1,\n",
    "                       n_jobs=2)\n",
    "    clf.fit(X, y)\n",
    "    print(clf.best_score_)\n",
    "    print(clf.best_params_)"
   ]
  },
  {
   "cell_type": "markdown",
   "metadata": {},
   "source": [
    "作者：寒小阳、助教Andrei\n",
    "\n",
    "本文档版权归稀牛学院所有"
   ]
  },
  {
   "cell_type": "markdown",
   "metadata": {},
   "source": [
    "![](http://pic1.tsingdataedu.com/%E7%A8%80%E7%89%9B%20x%20%E7%BD%91%E6%98%93.png)"
   ]
  }
 ],
 "metadata": {
  "kernelspec": {
   "display_name": "Python 3",
   "language": "python",
   "name": "python3"
  },
  "language_info": {
   "codemirror_mode": {
    "name": "ipython",
    "version": 3
   },
   "file_extension": ".py",
   "mimetype": "text/x-python",
   "name": "python",
   "nbconvert_exporter": "python",
   "pygments_lexer": "ipython3",
   "version": "3.6.4"
  }
 },
 "nbformat": 4,
 "nbformat_minor": 2
}
